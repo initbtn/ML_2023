{
 "cells": [
  {
   "cell_type": "code",
   "execution_count": 1,
   "metadata": {},
   "outputs": [],
   "source": [
    "import torch"
   ]
  },
  {
   "cell_type": "code",
   "execution_count": 2,
   "metadata": {},
   "outputs": [
    {
     "data": {
      "text/plain": [
       "tensor([[1, 2],\n",
       "        [3, 4]])"
      ]
     },
     "execution_count": 2,
     "metadata": {},
     "output_type": "execute_result"
    }
   ],
   "source": [
    "torch.tensor([[1,2],[3,4]])"
   ]
  },
  {
   "cell_type": "code",
   "execution_count": 3,
   "metadata": {},
   "outputs": [
    {
     "data": {
      "text/plain": [
       "tensor([[1., 2., 3.],\n",
       "        [4., 5., 6.]])"
      ]
     },
     "execution_count": 3,
     "metadata": {},
     "output_type": "execute_result"
    }
   ],
   "source": [
    "x=torch.FloatTensor([[1,2,3],[4,5,6]])\n",
    "x"
   ]
  },
  {
   "cell_type": "code",
   "execution_count": 4,
   "metadata": {},
   "outputs": [
    {
     "name": "stdout",
     "output_type": "stream",
     "text": [
      "tensor([[1, 2],\n",
      "        [3, 4]])\n",
      "tensor([[1., 2.],\n",
      "        [3., 4.]], dtype=torch.float64)\n"
     ]
    }
   ],
   "source": [
    "print(torch.tensor([[1,2],[3,4]]))\n",
    "#print(torch.tensor([[1,2],[3,4]], device=\"cuda:0\"))\n",
    "print(torch.tensor([[1,2],[3,4]], dtype=torch.float64))"
   ]
  },
  {
   "cell_type": "code",
   "execution_count": 5,
   "metadata": {},
   "outputs": [
    {
     "name": "stdout",
     "output_type": "stream",
     "text": [
      "tensor([[1., 2.],\n",
      "        [3., 4.]])\n",
      "tensor([[1, 2],\n",
      "        [3, 4]])\n",
      "tensor([[1, 2],\n",
      "        [3, 4]], dtype=torch.uint8)\n"
     ]
    }
   ],
   "source": [
    "ft=torch.FloatTensor([[1,2],[3,4]])\n",
    "lt=torch.LongTensor([[1,2],[3,4]])\n",
    "bt=torch.ByteTensor([[1,2],[3,4]])\n",
    "print(ft)\n",
    "print(lt)\n",
    "print(bt)"
   ]
  },
  {
   "cell_type": "markdown",
   "metadata": {},
   "source": [
    "ndarray->torch tensor->ndarray"
   ]
  },
  {
   "cell_type": "code",
   "execution_count": 6,
   "metadata": {},
   "outputs": [
    {
     "name": "stdout",
     "output_type": "stream",
     "text": [
      "[[0 1 2]\n",
      " [3 4 5]\n",
      " [6 7 8]] <class 'numpy.ndarray'>\n"
     ]
    }
   ],
   "source": [
    "import numpy as np\n",
    "x=np.arange(0,9).reshape(3,3)\n",
    "print(x, type(x))"
   ]
  },
  {
   "cell_type": "code",
   "execution_count": 7,
   "metadata": {},
   "outputs": [
    {
     "name": "stdout",
     "output_type": "stream",
     "text": [
      "tensor([[0, 1, 2],\n",
      "        [3, 4, 5],\n",
      "        [6, 7, 8]], dtype=torch.int32) <class 'torch.Tensor'>\n"
     ]
    }
   ],
   "source": [
    "tx=torch.from_numpy(x)\n",
    "print(tx, type(tx))"
   ]
  },
  {
   "cell_type": "code",
   "execution_count": 8,
   "metadata": {},
   "outputs": [
    {
     "name": "stdout",
     "output_type": "stream",
     "text": [
      "[[0 1 2]\n",
      " [3 4 5]\n",
      " [6 7 8]] <class 'numpy.ndarray'>\n"
     ]
    }
   ],
   "source": [
    "nx=tx.numpy()\n",
    "print(nx, type(nx))"
   ]
  },
  {
   "cell_type": "code",
   "execution_count": 9,
   "metadata": {},
   "outputs": [
    {
     "name": "stdout",
     "output_type": "stream",
     "text": [
      "tensor([[0., 1., 2.],\n",
      "        [3., 4., 5.],\n",
      "        [6., 7., 8.]])\n",
      "tensor([[0, 1, 2],\n",
      "        [3, 4, 5],\n",
      "        [6, 7, 8]])\n",
      "tensor([[0, 1, 2],\n",
      "        [3, 4, 5],\n",
      "        [6, 7, 8]], dtype=torch.uint8)\n"
     ]
    }
   ],
   "source": [
    "ft=tx.float()\n",
    "print(ft)\n",
    "lt=ft.long()\n",
    "print(lt)\n",
    "bt=ft.byte()\n",
    "print(bt)"
   ]
  },
  {
   "cell_type": "code",
   "execution_count": 10,
   "metadata": {},
   "outputs": [],
   "source": [
    "na=np.arange(1, 13).reshape(3,2,2)\n",
    "t=torch.from_numpy(na)"
   ]
  },
  {
   "cell_type": "code",
   "execution_count": 11,
   "metadata": {},
   "outputs": [
    {
     "name": "stdout",
     "output_type": "stream",
     "text": [
      "torch.Size([3, 2, 2])\n",
      "torch.Size([3, 2, 2])\n",
      "2\n",
      "2\n",
      "3\n",
      "3\n",
      "2\n",
      "2\n"
     ]
    }
   ],
   "source": [
    "print(t.size())\n",
    "print(t.shape)\n",
    "print(t.size(2))\n",
    "print(t.shape[2])\n",
    "print(t.dim())\n",
    "print(len(t.size()))\n",
    "print(t.size(-1))\n",
    "print(t.shape[-1])"
   ]
  },
  {
   "cell_type": "code",
   "execution_count": 12,
   "metadata": {},
   "outputs": [],
   "source": [
    "a=torch.Tensor([[1,2],[3,4]])\n",
    "b=torch.Tensor([[1,2],[3,4]])"
   ]
  },
  {
   "cell_type": "code",
   "execution_count": 13,
   "metadata": {},
   "outputs": [
    {
     "name": "stdout",
     "output_type": "stream",
     "text": [
      "tensor([[2., 4.],\n",
      "        [6., 8.]])\n",
      "tensor([[0., 0.],\n",
      "        [0., 0.]])\n",
      "tensor([[ 1.,  4.],\n",
      "        [ 9., 16.]])\n",
      "tensor([[1., 1.],\n",
      "        [1., 1.]])\n",
      "tensor([[True, True],\n",
      "        [True, True]])\n",
      "tensor([[False, False],\n",
      "        [False, False]])\n",
      "tensor([[  1.,   4.],\n",
      "        [ 27., 256.]])\n"
     ]
    }
   ],
   "source": [
    "print(a+b)\n",
    "print(a-b)\n",
    "print(a*b)\n",
    "print(a/b)\n",
    "print(a==b)\n",
    "print(a!=b)\n",
    "print(a**b)"
   ]
  },
  {
   "cell_type": "code",
   "execution_count": 14,
   "metadata": {},
   "outputs": [
    {
     "name": "stdout",
     "output_type": "stream",
     "text": [
      "tensor([[3., 4.],\n",
      "        [5., 6.]])\n",
      "tensor([[-1.,  0.],\n",
      "        [ 1.,  2.]])\n",
      "tensor([[2., 4.],\n",
      "        [6., 8.]])\n",
      "tensor([[0.5000, 1.0000],\n",
      "        [1.5000, 2.0000]])\n",
      "tensor([[0., 1.],\n",
      "        [1., 2.]])\n",
      "tensor([[False,  True],\n",
      "        [False, False]])\n",
      "tensor([[False, False],\n",
      "        [ True,  True]])\n",
      "tensor([[ True, False],\n",
      "        [ True,  True]])\n"
     ]
    }
   ],
   "source": [
    "print(a+2)\n",
    "print(a-2)\n",
    "print(a*2)\n",
    "print(a/2)\n",
    "print(a//2) #정수몫만 구하기\n",
    "print(a==2)\n",
    "print(a>2)\n",
    "print(a!=2)"
   ]
  },
  {
   "cell_type": "code",
   "execution_count": 15,
   "metadata": {},
   "outputs": [
    {
     "name": "stdout",
     "output_type": "stream",
     "text": [
      "tensor([[1., 2.],\n",
      "        [3., 4.]])\n",
      "tensor([[2., 4.],\n",
      "        [4., 6.]])\n"
     ]
    }
   ],
   "source": [
    "c=torch.tensor([1,2])\n",
    "print(a)\n",
    "print(a+c)"
   ]
  },
  {
   "cell_type": "code",
   "execution_count": 16,
   "metadata": {},
   "outputs": [
    {
     "name": "stdout",
     "output_type": "stream",
     "text": [
      "tensor([[1., 2.],\n",
      "        [3., 4.]])\n",
      "tensor([[1., 2.],\n",
      "        [3., 4.]])\n",
      "tensor([[ 1.,  4.],\n",
      "        [ 9., 16.]])\n",
      "tensor([[ 1.,  4.],\n",
      "        [ 9., 16.]])\n"
     ]
    }
   ],
   "source": [
    "print(a)\n",
    "print(b)\n",
    "print(a.mul_(b))\n",
    "print(a)"
   ]
  },
  {
   "cell_type": "code",
   "execution_count": 17,
   "metadata": {},
   "outputs": [
    {
     "name": "stdout",
     "output_type": "stream",
     "text": [
      "tensor([[ 1.,  4.],\n",
      "        [ 9., 16.]])\n",
      "tensor(30.)\n",
      "tensor([10., 20.])\n",
      "tensor([ 5., 25.])\n",
      "tensor([ 5., 25.])\n"
     ]
    }
   ],
   "source": [
    "print(a)\n",
    "print(a.sum())\n",
    "print(a.sum(dim=0))\n",
    "print(a.sum(dim=1))\n",
    "print(a.sum(dim=-1))"
   ]
  },
  {
   "cell_type": "code",
   "execution_count": 18,
   "metadata": {},
   "outputs": [
    {
     "name": "stdout",
     "output_type": "stream",
     "text": [
      "tensor([[[ 1,  2],\n",
      "         [ 3,  4]],\n",
      "\n",
      "        [[ 5,  6],\n",
      "         [ 7,  8]],\n",
      "\n",
      "        [[ 9, 10],\n",
      "         [11, 12]]], dtype=torch.int32)\n",
      "tensor([[15, 18],\n",
      "        [21, 24]])\n",
      "tensor([[ 4,  6],\n",
      "        [12, 14],\n",
      "        [20, 22]])\n",
      "tensor([[ 3,  7],\n",
      "        [11, 15],\n",
      "        [19, 23]])\n",
      "tensor([[ 3,  7],\n",
      "        [11, 15],\n",
      "        [19, 23]])\n"
     ]
    }
   ],
   "source": [
    "print(t)\n",
    "print(t.sum(dim=0))\n",
    "print(t.sum(dim=1))\n",
    "print(t.sum(dim=2))\n",
    "print(t.sum(dim=-1))"
   ]
  },
  {
   "cell_type": "code",
   "execution_count": 19,
   "metadata": {},
   "outputs": [
    {
     "name": "stdout",
     "output_type": "stream",
     "text": [
      "tensor(6.5000)\n",
      "tensor([[5., 6.],\n",
      "        [7., 8.]])\n",
      "tensor([[ 2.,  3.],\n",
      "        [ 6.,  7.],\n",
      "        [10., 11.]])\n",
      "tensor([[ 1.5000,  3.5000],\n",
      "        [ 5.5000,  7.5000],\n",
      "        [ 9.5000, 11.5000]])\n",
      "tensor([[ 1.5000,  3.5000],\n",
      "        [ 5.5000,  7.5000],\n",
      "        [ 9.5000, 11.5000]])\n"
     ]
    }
   ],
   "source": [
    "ft=t.float()\n",
    "print(ft.mean())\n",
    "print(ft.mean(dim=0))\n",
    "print(ft.mean(dim=1))\n",
    "print(ft.mean(dim=-1))\n",
    "print(ft.mean(dim=-1))"
   ]
  },
  {
   "cell_type": "code",
   "execution_count": 32,
   "metadata": {},
   "outputs": [
    {
     "name": "stdout",
     "output_type": "stream",
     "text": [
      "tensor([[[ 0,  1],\n",
      "         [ 2,  3],\n",
      "         [ 4,  5]],\n",
      "\n",
      "        [[ 6,  7],\n",
      "         [ 8,  9],\n",
      "         [10, 11]]], dtype=torch.int32)\n",
      "torch.Size([2, 3, 2])\n",
      "tensor([[[ 2,  3],\n",
      "         [ 4,  5],\n",
      "         [ 6,  7]],\n",
      "\n",
      "        [[ 8,  9],\n",
      "         [10, 11],\n",
      "         [12, 13]]], dtype=torch.int32)\n",
      "torch.Size([2, 3, 2])\n",
      "tensor([[10, 11],\n",
      "        [12, 13],\n",
      "        [14, 15]], dtype=torch.int32)\n",
      "torch.Size([3, 2])\n"
     ]
    }
   ],
   "source": [
    "a=np.arange(12).reshape(2,3,-1)\n",
    "b=np.arange(2, 14).reshape(2,3,-1)\n",
    "c=np.arange(10,16).reshape(3,2)\n",
    "ta=torch.from_numpy(a)\n",
    "tb=torch.from_numpy(b)\n",
    "tc=torch.from_numpy(c)\n",
    "print(ta)\n",
    "print(ta.size())\n",
    "print(tb)\n",
    "print(tb.size())\n",
    "print(tc)\n",
    "print(tc.size())"
   ]
  },
  {
   "cell_type": "code",
   "execution_count": 29,
   "metadata": {},
   "outputs": [
    {
     "name": "stdout",
     "output_type": "stream",
     "text": [
      "tensor([[[ 2,  4],\n",
      "         [ 6,  8],\n",
      "         [10, 12]],\n",
      "\n",
      "        [[14, 16],\n",
      "         [18, 20],\n",
      "         [22, 24]]], dtype=torch.int32)\n"
     ]
    }
   ],
   "source": [
    "print(ta+tb)"
   ]
  },
  {
   "cell_type": "code",
   "execution_count": 31,
   "metadata": {},
   "outputs": [
    {
     "name": "stdout",
     "output_type": "stream",
     "text": [
      "tensor([[[10, 12],\n",
      "         [14, 16],\n",
      "         [18, 20]],\n",
      "\n",
      "        [[16, 18],\n",
      "         [20, 22],\n",
      "         [24, 26]]], dtype=torch.int32)\n"
     ]
    }
   ],
   "source": [
    "print(ta+tc)"
   ]
  },
  {
   "cell_type": "code",
   "execution_count": 33,
   "metadata": {},
   "outputs": [
    {
     "data": {
      "text/plain": [
       "tensor([ 1,  2,  3,  4,  5,  6,  7,  8,  9, 10, 11, 12])"
      ]
     },
     "execution_count": 33,
     "metadata": {},
     "output_type": "execute_result"
    }
   ],
   "source": [
    "x=torch.arange(1,13)\n",
    "x"
   ]
  },
  {
   "cell_type": "code",
   "execution_count": 38,
   "metadata": {},
   "outputs": [
    {
     "name": "stdout",
     "output_type": "stream",
     "text": [
      "tensor([[ 1,  2,  3,  4],\n",
      "        [ 5,  6,  7,  8],\n",
      "        [ 9, 10, 11, 12]])\n",
      "tensor([[ 1,  2,  3,  4],\n",
      "        [ 5,  6,  7,  8],\n",
      "        [ 9, 10, 11, 12]])\n",
      "tensor([[ 1,  2,  3],\n",
      "        [ 4,  5,  6],\n",
      "        [ 7,  8,  9],\n",
      "        [10, 11, 12]])\n",
      "tensor([[[ 1,  2],\n",
      "         [ 3,  4]],\n",
      "\n",
      "        [[ 5,  6],\n",
      "         [ 7,  8]],\n",
      "\n",
      "        [[ 9, 10],\n",
      "         [11, 12]]])\n",
      "tensor([[[ 1,  2,  3],\n",
      "         [ 4,  5,  6]],\n",
      "\n",
      "        [[ 7,  8,  9],\n",
      "         [10, 11, 12]]])\n"
     ]
    }
   ],
   "source": [
    "print(x.view(3,4))\n",
    "print(x.reshape(3,4))\n",
    "print(x.view(4,3))\n",
    "print(x.view(3,2,2))\n",
    "print(x.view(-1,2,3))"
   ]
  },
  {
   "cell_type": "code",
   "execution_count": 44,
   "metadata": {},
   "outputs": [
    {
     "name": "stdout",
     "output_type": "stream",
     "text": [
      "tensor([[[ 1,  2,  3,  4]],\n",
      "\n",
      "        [[ 5,  6,  7,  8]],\n",
      "\n",
      "        [[ 9, 10, 11, 12]]])\n"
     ]
    }
   ],
   "source": [
    "x1=x.view(3,1,4)\n",
    "print(x1)"
   ]
  },
  {
   "cell_type": "code",
   "execution_count": 50,
   "metadata": {},
   "outputs": [
    {
     "name": "stdout",
     "output_type": "stream",
     "text": [
      "tensor([[ 1,  2,  3,  4],\n",
      "        [ 5,  6,  7,  8],\n",
      "        [ 9, 10, 11, 12]])\n"
     ]
    }
   ],
   "source": [
    "print(x1.squeeze())"
   ]
  },
  {
   "cell_type": "code",
   "execution_count": 53,
   "metadata": {},
   "outputs": [
    {
     "name": "stdout",
     "output_type": "stream",
     "text": [
      "tensor([[[[ 1,  2,  3,  4]]],\n",
      "\n",
      "\n",
      "        [[[ 5,  6,  7,  8]]],\n",
      "\n",
      "\n",
      "        [[[ 9, 10, 11, 12]]]])\n",
      "torch.Size([3, 1, 4])\n"
     ]
    }
   ],
   "source": [
    "print(x1.unsqueeze(1))\n",
    "print(x1.size())"
   ]
  },
  {
   "cell_type": "code",
   "execution_count": 55,
   "metadata": {},
   "outputs": [
    {
     "data": {
      "text/plain": [
       "tensor([[[ 1,  2],\n",
       "         [ 3,  4],\n",
       "         [ 5,  6]],\n",
       "\n",
       "        [[ 7,  8],\n",
       "         [ 9, 10],\n",
       "         [11, 12]]])"
      ]
     },
     "execution_count": 55,
     "metadata": {},
     "output_type": "execute_result"
    }
   ],
   "source": [
    "x2=x.view(2,3,2)\n",
    "x2"
   ]
  },
  {
   "cell_type": "code",
   "execution_count": 62,
   "metadata": {},
   "outputs": [
    {
     "name": "stdout",
     "output_type": "stream",
     "text": [
      "tensor([[ 2,  4,  6],\n",
      "        [ 8, 10, 12]])\n"
     ]
    }
   ],
   "source": [
    "print(x2[:,:,1])"
   ]
  },
  {
   "cell_type": "code",
   "execution_count": 70,
   "metadata": {},
   "outputs": [
    {
     "name": "stdout",
     "output_type": "stream",
     "text": [
      "torch.Size([4, 3])\n",
      "torch.Size([4, 3])\n",
      "torch.Size([4, 3])\n",
      "torch.Size([4, 1])\n"
     ]
    }
   ],
   "source": [
    "x=torch.FloatTensor(4,10)\n",
    "splits=x.split(3, dim=1)\n",
    "for s in splits:\n",
    "    print(s.size())"
   ]
  },
  {
   "cell_type": "code",
   "execution_count": 83,
   "metadata": {},
   "outputs": [
    {
     "data": {
      "text/plain": [
       "tensor([[[ 1,  2,  3,  4],\n",
       "         [ 5,  6,  7,  8],\n",
       "         [ 9, 10, 11, 12],\n",
       "         [13, 14, 15, 16]],\n",
       "\n",
       "        [[17, 18, 19, 20],\n",
       "         [21, 22, 23, 24],\n",
       "         [25, 26, 27, 28],\n",
       "         [29, 30, 31, 32]],\n",
       "\n",
       "        [[33, 34, 35, 36],\n",
       "         [37, 38, 39, 40],\n",
       "         [41, 42, 43, 44],\n",
       "         [45, 46, 47, 48]],\n",
       "\n",
       "        [[49, 50, 51, 52],\n",
       "         [53, 54, 55, 56],\n",
       "         [57, 58, 59, 60],\n",
       "         [61, 62, 63, 64]]])"
      ]
     },
     "execution_count": 83,
     "metadata": {},
     "output_type": "execute_result"
    }
   ],
   "source": [
    "x=torch.arange(1,65).view(4,4,4)\n",
    "x"
   ]
  },
  {
   "cell_type": "code",
   "execution_count": 78,
   "metadata": {},
   "outputs": [
    {
     "data": {
      "text/plain": [
       "tensor([[[ 1,  3],\n",
       "         [ 4,  6],\n",
       "         [ 7,  9]],\n",
       "\n",
       "        [[10, 12],\n",
       "         [13, 15],\n",
       "         [16, 18]],\n",
       "\n",
       "        [[19, 21],\n",
       "         [22, 24],\n",
       "         [25, 27]]])"
      ]
     },
     "execution_count": 78,
     "metadata": {},
     "output_type": "execute_result"
    }
   ],
   "source": [
    "index=torch.LongTensor([0,2])\n",
    "y=x.index_select(dim=2, index=index)\n",
    "y"
   ]
  },
  {
   "cell_type": "code",
   "execution_count": 88,
   "metadata": {},
   "outputs": [
    {
     "name": "stdout",
     "output_type": "stream",
     "text": [
      "tensor([[[ 1,  2,  3],\n",
      "         [ 4,  5,  6]],\n",
      "\n",
      "        [[ 7,  8,  9],\n",
      "         [10, 11, 12]]])\n",
      "tensor([[[11, 12, 13],\n",
      "         [14, 15, 16]],\n",
      "\n",
      "        [[17, 18, 19],\n",
      "         [20, 21, 22]]])\n"
     ]
    }
   ],
   "source": [
    "x=torch.arange(1,13).view(2,2,3)\n",
    "y=torch.arange(11, 23).view(2,2,3)\n",
    "print(x)\n",
    "print(y)"
   ]
  },
  {
   "cell_type": "code",
   "execution_count": 91,
   "metadata": {},
   "outputs": [
    {
     "data": {
      "text/plain": [
       "tensor([[[ 1,  2,  3, 11, 12, 13],\n",
       "         [ 4,  5,  6, 14, 15, 16]],\n",
       "\n",
       "        [[ 7,  8,  9, 17, 18, 19],\n",
       "         [10, 11, 12, 20, 21, 22]]])"
      ]
     },
     "execution_count": 91,
     "metadata": {},
     "output_type": "execute_result"
    }
   ],
   "source": [
    "z=torch.cat([x,y], dim=-1)\n",
    "z"
   ]
  },
  {
   "cell_type": "code",
   "execution_count": 102,
   "metadata": {},
   "outputs": [
    {
     "name": "stdout",
     "output_type": "stream",
     "text": [
      "tensor([[[[ 1,  2,  3],\n",
      "          [11, 12, 13]],\n",
      "\n",
      "         [[ 4,  5,  6],\n",
      "          [14, 15, 16]]],\n",
      "\n",
      "\n",
      "        [[[ 7,  8,  9],\n",
      "          [17, 18, 19]],\n",
      "\n",
      "         [[10, 11, 12],\n",
      "          [20, 21, 22]]]])\n"
     ]
    }
   ],
   "source": [
    "z=torch.stack([x,y], dim=2)\n",
    "print(z)"
   ]
  },
  {
   "cell_type": "code",
   "execution_count": 107,
   "metadata": {},
   "outputs": [
    {
     "data": {
      "text/plain": [
       "tensor([[[[ 1,  2,  3],\n",
       "          [ 4,  5,  6]],\n",
       "\n",
       "         [[ 7,  8,  9],\n",
       "          [10, 11, 12]]],\n",
       "\n",
       "\n",
       "        [[[ 1,  2,  3],\n",
       "          [ 4,  5,  6]],\n",
       "\n",
       "         [[ 7,  8,  9],\n",
       "          [10, 11, 12]]],\n",
       "\n",
       "\n",
       "        [[[ 1,  2,  3],\n",
       "          [ 4,  5,  6]],\n",
       "\n",
       "         [[ 7,  8,  9],\n",
       "          [10, 11, 12]]]])"
      ]
     },
     "execution_count": 107,
     "metadata": {},
     "output_type": "execute_result"
    }
   ],
   "source": [
    "x.view(1,2,2,3)\n",
    "y=x.expand(3,2,2,3)\n",
    "y"
   ]
  },
  {
   "cell_type": "code",
   "execution_count": 112,
   "metadata": {},
   "outputs": [
    {
     "name": "stdout",
     "output_type": "stream",
     "text": [
      "tensor([[[1, 2, 3]],\n",
      "\n",
      "        [[4, 5, 6]]])\n",
      "tensor([[[1, 2, 3],\n",
      "         [1, 2, 3]],\n",
      "\n",
      "        [[4, 5, 6],\n",
      "         [4, 5, 6]]])\n"
     ]
    }
   ],
   "source": [
    "x=torch.arange(1,7).view(2,1,3)\n",
    "print(x)\n",
    "y=x.expand(2,2,3)\n",
    "print(y)"
   ]
  },
  {
   "cell_type": "code",
   "execution_count": 117,
   "metadata": {},
   "outputs": [
    {
     "data": {
      "text/plain": [
       "tensor([15, 12, 42, 91, 51, 67, 46, 27, 70, 18, 72, 25, 75, 47, 44, 82, 68, 92,\n",
       "        11, 26, 14, 59, 20, 73, 61, 76, 22, 16, 78, 37, 95, 62,  9, 63, 90, 74,\n",
       "        13,  8, 36, 96, 64, 56, 35,  7, 49, 43, 33, 24, 89, 23, 85, 54, 50, 60,\n",
       "         6, 41, 88, 99, 66, 97,  3,  4,  2, 84, 80, 34, 19, 71, 81, 40, 29, 32,\n",
       "        98, 94, 86,  0, 45, 57, 30, 53, 38, 21, 28, 55, 31, 77,  1, 69, 65, 93,\n",
       "        58, 79, 83, 52, 48, 10,  5, 87, 39, 17])"
      ]
     },
     "execution_count": 117,
     "metadata": {},
     "output_type": "execute_result"
    }
   ],
   "source": [
    "x=torch.randperm(100)\n",
    "x"
   ]
  },
  {
   "cell_type": "code",
   "execution_count": 119,
   "metadata": {},
   "outputs": [
    {
     "data": {
      "text/plain": [
       "tensor([[[20, 16, 12],\n",
       "         [ 4, 19, 21],\n",
       "         [26, 18, 17]],\n",
       "\n",
       "        [[24, 15,  5],\n",
       "         [ 1, 11, 13],\n",
       "         [ 0,  3,  9]],\n",
       "\n",
       "        [[22, 25,  7],\n",
       "         [ 8, 14,  6],\n",
       "         [ 2, 10, 23]]])"
      ]
     },
     "execution_count": 119,
     "metadata": {},
     "output_type": "execute_result"
    }
   ],
   "source": [
    "x=torch.randperm(3**3).view(3,3,-1)\n",
    "x"
   ]
  },
  {
   "cell_type": "code",
   "execution_count": 125,
   "metadata": {},
   "outputs": [
    {
     "data": {
      "text/plain": [
       "tensor([[0, 2, 0],\n",
       "        [0, 2, 2],\n",
       "        [1, 1, 2]])"
      ]
     },
     "execution_count": 125,
     "metadata": {},
     "output_type": "execute_result"
    }
   ],
   "source": [
    "y=x.argmax(dim=2)\n",
    "y"
   ]
  },
  {
   "cell_type": "code",
   "execution_count": 126,
   "metadata": {},
   "outputs": [
    {
     "data": {
      "text/plain": [
       "tensor([[[20, 16, 12],\n",
       "         [ 4, 19, 21],\n",
       "         [26, 18, 17]],\n",
       "\n",
       "        [[24, 15,  5],\n",
       "         [ 1, 11, 13],\n",
       "         [ 0,  3,  9]],\n",
       "\n",
       "        [[22, 25,  7],\n",
       "         [ 8, 14,  6],\n",
       "         [ 2, 10, 23]]])"
      ]
     },
     "execution_count": 126,
     "metadata": {},
     "output_type": "execute_result"
    }
   ],
   "source": [
    "x"
   ]
  },
  {
   "cell_type": "code",
   "execution_count": 135,
   "metadata": {},
   "outputs": [
    {
     "name": "stdout",
     "output_type": "stream",
     "text": [
      "tensor([[[24, 25, 12],\n",
      "         [ 8, 19, 21],\n",
      "         [26, 18, 23]]])\n",
      "tensor([[[1, 2, 0],\n",
      "         [2, 0, 0],\n",
      "         [0, 0, 2]]])\n"
     ]
    }
   ],
   "source": [
    "value, indices=torch.topk(x, k=1, dim=0)\n",
    "print(value)\n",
    "print(indices)"
   ]
  },
  {
   "cell_type": "code",
   "execution_count": 138,
   "metadata": {},
   "outputs": [
    {
     "data": {
      "text/plain": [
       "tensor([[4, 1, 7],\n",
       "        [0, 5, 3],\n",
       "        [6, 2, 8]])"
      ]
     },
     "execution_count": 138,
     "metadata": {},
     "output_type": "execute_result"
    }
   ],
   "source": [
    "x=torch.randperm(9).view(3,3)\n",
    "x"
   ]
  },
  {
   "cell_type": "code",
   "execution_count": 141,
   "metadata": {},
   "outputs": [
    {
     "data": {
      "text/plain": [
       "tensor([[False,  True, False],\n",
       "        [ True, False,  True],\n",
       "        [False,  True, False]])"
      ]
     },
     "execution_count": 141,
     "metadata": {},
     "output_type": "execute_result"
    }
   ],
   "source": [
    "mask=x<4\n",
    "mask"
   ]
  },
  {
   "cell_type": "code",
   "execution_count": 142,
   "metadata": {},
   "outputs": [
    {
     "data": {
      "text/plain": [
       "tensor([[4, 0, 7],\n",
       "        [0, 5, 0],\n",
       "        [6, 0, 8]])"
      ]
     },
     "execution_count": 142,
     "metadata": {},
     "output_type": "execute_result"
    }
   ],
   "source": [
    "y=x.masked_fill(mask, value=0)\n",
    "y"
   ]
  }
 ],
 "metadata": {
  "kernelspec": {
   "display_name": "base",
   "language": "python",
   "name": "python3"
  },
  "language_info": {
   "codemirror_mode": {
    "name": "ipython",
    "version": 3
   },
   "file_extension": ".py",
   "mimetype": "text/x-python",
   "name": "python",
   "nbconvert_exporter": "python",
   "pygments_lexer": "ipython3",
   "version": "3.10.9"
  },
  "orig_nbformat": 4
 },
 "nbformat": 4,
 "nbformat_minor": 2
}
