{
 "cells": [
  {
   "cell_type": "code",
   "execution_count": 5,
   "metadata": {},
   "outputs": [],
   "source": [
    "import torch\n",
    "import torch.nn as nn\n",
    "import torch.nn.functional as F\n",
    "import torch.optim as optim"
   ]
  },
  {
   "cell_type": "code",
   "execution_count": 6,
   "metadata": {},
   "outputs": [
    {
     "name": "stdout",
     "output_type": "stream",
     "text": [
      "torch.Size([6, 2])\n",
      "torch.Size([6, 1])\n"
     ]
    }
   ],
   "source": [
    "torch.manual_seed(1)\n",
    "x_data = [[1,2],[2,3],[3,1],[4,3],[5,3],[6,2]]\n",
    "t_data = [[0],[0],[0],[1],[1],[1]]\n",
    "x_train=torch.FloatTensor(x_data)\n",
    "y_train=torch.FloatTensor(t_data)\n",
    "print(x_train.size())\n",
    "print(y_train.size())"
   ]
  },
  {
   "cell_type": "code",
   "execution_count": 7,
   "metadata": {},
   "outputs": [],
   "source": [
    "class BinaryClassifier(nn.Module):\n",
    "    def __init__(self):\n",
    "        super().__init__()\n",
    "        self.linear=nn.Linear(2,1)\n",
    "        self.sigmoid=nn.Sigmoid()\n",
    "\n",
    "    def forward(self, x):\n",
    "        return self.sigmoid(self.linear(x))\n",
    "    \n",
    "    "
   ]
  },
  {
   "cell_type": "code",
   "execution_count": 8,
   "metadata": {},
   "outputs": [],
   "source": [
    "model=BinaryClassifier()\n",
    "optimizer=optim.SGD(model.parameters(), lr=0.1)\n"
   ]
  },
  {
   "cell_type": "code",
   "execution_count": 9,
   "metadata": {},
   "outputs": [],
   "source": [
    "nb_epochs=20000\n",
    "accuracy_list=[]\n",
    "cost_list=[]\n"
   ]
  },
  {
   "cell_type": "code",
   "execution_count": 10,
   "metadata": {},
   "outputs": [
    {
     "name": "stdout",
     "output_type": "stream",
     "text": [
      "epoch :  0 cost :  0.5397130846977234 accuracy :  0.8333333333333334\n",
      "epoch :  100 cost :  0.4076883792877197 accuracy :  0.8333333333333334\n",
      "epoch :  200 cost :  0.34564945101737976 accuracy :  0.8333333333333334\n",
      "epoch :  300 cost :  0.29832255840301514 accuracy :  0.8333333333333334\n",
      "epoch :  400 cost :  0.26117900013923645 accuracy :  0.8333333333333334\n",
      "epoch :  500 cost :  0.2316325306892395 accuracy :  1.0\n",
      "epoch :  600 cost :  0.20777933299541473 accuracy :  1.0\n",
      "epoch :  700 cost :  0.18822990357875824 accuracy :  1.0\n",
      "epoch :  800 cost :  0.17197585105895996 accuracy :  1.0\n",
      "epoch :  900 cost :  0.15828156471252441 accuracy :  1.0\n",
      "epoch :  1000 cost :  0.1466050148010254 accuracy :  1.0\n",
      "epoch :  1100 cost :  0.13654100894927979 accuracy :  1.0\n",
      "epoch :  1200 cost :  0.12778277695178986 accuracy :  1.0\n",
      "epoch :  1300 cost :  0.12009505182504654 accuracy :  1.0\n",
      "epoch :  1400 cost :  0.11329448223114014 accuracy :  1.0\n",
      "epoch :  1500 cost :  0.10723665356636047 accuracy :  1.0\n",
      "epoch :  1600 cost :  0.10180646926164627 accuracy :  1.0\n",
      "epoch :  1700 cost :  0.09691128879785538 accuracy :  1.0\n",
      "epoch :  1800 cost :  0.09247559309005737 accuracy :  1.0\n",
      "epoch :  1900 cost :  0.08843735605478287 accuracy :  1.0\n",
      "epoch :  2000 cost :  0.08474519848823547 accuracy :  1.0\n",
      "epoch :  2100 cost :  0.08135619014501572 accuracy :  1.0\n",
      "epoch :  2200 cost :  0.07823429256677628 accuracy :  1.0\n",
      "epoch :  2300 cost :  0.07534881681203842 accuracy :  1.0\n",
      "epoch :  2400 cost :  0.07267351448535919 accuracy :  1.0\n",
      "epoch :  2500 cost :  0.07018624991178513 accuracy :  1.0\n",
      "epoch :  2600 cost :  0.06786756962537766 accuracy :  1.0\n",
      "epoch :  2700 cost :  0.06570073217153549 accuracy :  1.0\n",
      "epoch :  2800 cost :  0.06367116421461105 accuracy :  1.0\n",
      "epoch :  2900 cost :  0.06176603212952614 accuracy :  1.0\n",
      "epoch :  3000 cost :  0.05997414514422417 accuracy :  1.0\n",
      "epoch :  3100 cost :  0.05828559398651123 accuracy :  1.0\n",
      "epoch :  3200 cost :  0.056691575795412064 accuracy :  1.0\n",
      "epoch :  3300 cost :  0.055184293538331985 accuracy :  1.0\n",
      "epoch :  3400 cost :  0.053756698966026306 accuracy :  1.0\n",
      "epoch :  3500 cost :  0.052402663975954056 accuracy :  1.0\n",
      "epoch :  3600 cost :  0.05111655592918396 accuracy :  1.0\n",
      "epoch :  3700 cost :  0.049893274903297424 accuracy :  1.0\n",
      "epoch :  3800 cost :  0.04872832074761391 accuracy :  1.0\n",
      "epoch :  3900 cost :  0.04761764779686928 accuracy :  1.0\n",
      "epoch :  4000 cost :  0.04655733332037926 accuracy :  1.0\n",
      "epoch :  4100 cost :  0.045544106513261795 accuracy :  1.0\n",
      "epoch :  4200 cost :  0.04457481577992439 accuracy :  1.0\n",
      "epoch :  4300 cost :  0.04364669695496559 accuracy :  1.0\n",
      "epoch :  4400 cost :  0.04275708273053169 accuracy :  1.0\n",
      "epoch :  4500 cost :  0.04190364107489586 accuracy :  1.0\n",
      "epoch :  4600 cost :  0.041084107011556625 accuracy :  1.0\n",
      "epoch :  4700 cost :  0.04029656946659088 accuracy :  1.0\n",
      "epoch :  4800 cost :  0.039539139717817307 accuracy :  1.0\n",
      "epoch :  4900 cost :  0.03881009295582771 accuracy :  1.0\n",
      "epoch :  5000 cost :  0.03810788318514824 accuracy :  1.0\n",
      "epoch :  5100 cost :  0.03743099048733711 accuracy :  1.0\n",
      "epoch :  5200 cost :  0.036778103560209274 accuracy :  1.0\n",
      "epoch :  5300 cost :  0.036147940903902054 accuracy :  1.0\n",
      "epoch :  5400 cost :  0.03553926944732666 accuracy :  1.0\n",
      "epoch :  5500 cost :  0.03495105728507042 accuracy :  1.0\n",
      "epoch :  5600 cost :  0.03438228368759155 accuracy :  1.0\n",
      "epoch :  5700 cost :  0.033831942826509476 accuracy :  1.0\n",
      "epoch :  5800 cost :  0.03329913690686226 accuracy :  1.0\n",
      "epoch :  5900 cost :  0.032783158123493195 accuracy :  1.0\n",
      "epoch :  6000 cost :  0.03228306770324707 accuracy :  1.0\n",
      "epoch :  6100 cost :  0.031798239797353745 accuracy :  1.0\n",
      "epoch :  6200 cost :  0.03132791444659233 accuracy :  1.0\n",
      "epoch :  6300 cost :  0.030871475115418434 accuracy :  1.0\n",
      "epoch :  6400 cost :  0.03042830526828766 accuracy :  1.0\n",
      "epoch :  6500 cost :  0.029997805133461952 accuracy :  1.0\n",
      "epoch :  6600 cost :  0.02957948110997677 accuracy :  1.0\n",
      "epoch :  6700 cost :  0.02917277254164219 accuracy :  1.0\n",
      "epoch :  6800 cost :  0.028777219355106354 accuracy :  1.0\n",
      "epoch :  6900 cost :  0.028392368927598 accuracy :  1.0\n",
      "epoch :  7000 cost :  0.02801779843866825 accuracy :  1.0\n",
      "epoch :  7100 cost :  0.02765304408967495 accuracy :  1.0\n",
      "epoch :  7200 cost :  0.02729777991771698 accuracy :  1.0\n",
      "epoch :  7300 cost :  0.026951642706990242 accuracy :  1.0\n",
      "epoch :  7400 cost :  0.026614246889948845 accuracy :  1.0\n",
      "epoch :  7500 cost :  0.026285266503691673 accuracy :  1.0\n",
      "epoch :  7600 cost :  0.02596440352499485 accuracy :  1.0\n",
      "epoch :  7700 cost :  0.02565132826566696 accuracy :  1.0\n",
      "epoch :  7800 cost :  0.025345822796225548 accuracy :  1.0\n",
      "epoch :  7900 cost :  0.025047563016414642 accuracy :  1.0\n",
      "epoch :  8000 cost :  0.02475629560649395 accuracy :  1.0\n",
      "epoch :  8100 cost :  0.024471797049045563 accuracy :  1.0\n",
      "epoch :  8200 cost :  0.02419380098581314 accuracy :  1.0\n",
      "epoch :  8300 cost :  0.023922095075249672 accuracy :  1.0\n",
      "epoch :  8400 cost :  0.023656515404582024 accuracy :  1.0\n",
      "epoch :  8500 cost :  0.023396795615553856 accuracy :  1.0\n",
      "epoch :  8600 cost :  0.02314276061952114 accuracy :  1.0\n",
      "epoch :  8700 cost :  0.022894233465194702 accuracy :  1.0\n",
      "epoch :  8800 cost :  0.022651009261608124 accuracy :  1.0\n",
      "epoch :  8900 cost :  0.0224129781126976 accuracy :  1.0\n",
      "epoch :  9000 cost :  0.022179903462529182 accuracy :  1.0\n",
      "epoch :  9100 cost :  0.02195163629949093 accuracy :  1.0\n",
      "epoch :  9200 cost :  0.02172810025513172 accuracy :  1.0\n",
      "epoch :  9300 cost :  0.02150910347700119 accuracy :  1.0\n",
      "epoch :  9400 cost :  0.0212944895029068 accuracy :  1.0\n",
      "epoch :  9500 cost :  0.021084154024720192 accuracy :  1.0\n",
      "epoch :  9600 cost :  0.020877964794635773 accuracy :  1.0\n",
      "epoch :  9700 cost :  0.020675761625170708 accuracy :  1.0\n",
      "epoch :  9800 cost :  0.020477518439292908 accuracy :  1.0\n",
      "epoch :  9900 cost :  0.02028304897248745 accuracy :  1.0\n",
      "epoch :  10000 cost :  0.02009223960340023 accuracy :  1.0\n",
      "epoch :  10100 cost :  0.01990501396358013 accuracy :  1.0\n",
      "epoch :  10200 cost :  0.01972128264605999 accuracy :  1.0\n",
      "epoch :  10300 cost :  0.019540950655937195 accuracy :  1.0\n",
      "epoch :  10400 cost :  0.01936386525630951 accuracy :  1.0\n",
      "epoch :  10500 cost :  0.019189992919564247 accuracy :  1.0\n",
      "epoch :  10600 cost :  0.01901925913989544 accuracy :  1.0\n",
      "epoch :  10700 cost :  0.018851550295948982 accuracy :  1.0\n",
      "epoch :  10800 cost :  0.01868673413991928 accuracy :  1.0\n",
      "epoch :  10900 cost :  0.018524853512644768 accuracy :  1.0\n",
      "epoch :  11000 cost :  0.01836574822664261 accuracy :  1.0\n",
      "epoch :  11100 cost :  0.018209373578429222 accuracy :  1.0\n",
      "epoch :  11200 cost :  0.01805562898516655 accuracy :  1.0\n",
      "epoch :  11300 cost :  0.017904525622725487 accuracy :  1.0\n",
      "epoch :  11400 cost :  0.017755893990397453 accuracy :  1.0\n",
      "epoch :  11500 cost :  0.01760975271463394 accuracy :  1.0\n",
      "epoch :  11600 cost :  0.017465980723500252 accuracy :  1.0\n",
      "epoch :  11700 cost :  0.01732458733022213 accuracy :  1.0\n",
      "epoch :  11800 cost :  0.017185470089316368 accuracy :  1.0\n",
      "epoch :  11900 cost :  0.0170485470443964 accuracy :  1.0\n",
      "epoch :  12000 cost :  0.016913821920752525 accuracy :  1.0\n",
      "epoch :  12100 cost :  0.016781210899353027 accuracy :  1.0\n",
      "epoch :  12200 cost :  0.016650641337037086 accuracy :  1.0\n",
      "epoch :  12300 cost :  0.016522161662578583 accuracy :  1.0\n",
      "epoch :  12400 cost :  0.016395656391978264 accuracy :  1.0\n",
      "epoch :  12500 cost :  0.016271032392978668 accuracy :  1.0\n",
      "epoch :  12600 cost :  0.016148308292031288 accuracy :  1.0\n",
      "epoch :  12700 cost :  0.01602744869887829 accuracy :  1.0\n",
      "epoch :  12800 cost :  0.015908410772681236 accuracy :  1.0\n",
      "epoch :  12900 cost :  0.015791095793247223 accuracy :  1.0\n",
      "epoch :  13000 cost :  0.015675527974963188 accuracy :  1.0\n",
      "epoch :  13100 cost :  0.015561643056571484 accuracy :  1.0\n",
      "epoch :  13200 cost :  0.015449415892362595 accuracy :  1.0\n",
      "epoch :  13300 cost :  0.015338811092078686 accuracy :  1.0\n",
      "epoch :  13400 cost :  0.015229769982397556 accuracy :  1.0\n",
      "epoch :  13500 cost :  0.015122259967029095 accuracy :  1.0\n",
      "epoch :  13600 cost :  0.015016273595392704 accuracy :  1.0\n",
      "epoch :  13700 cost :  0.014911775477230549 accuracy :  1.0\n",
      "epoch :  13800 cost :  0.014808726496994495 accuracy :  1.0\n",
      "epoch :  13900 cost :  0.01470708753913641 accuracy :  1.0\n",
      "epoch :  14000 cost :  0.0146068399772048 accuracy :  1.0\n",
      "epoch :  14100 cost :  0.014507959596812725 accuracy :  1.0\n",
      "epoch :  14200 cost :  0.014410429634153843 accuracy :  1.0\n",
      "epoch :  14300 cost :  0.01431417465209961 accuracy :  1.0\n",
      "epoch :  14400 cost :  0.014219246804714203 accuracy :  1.0\n",
      "epoch :  14500 cost :  0.014125595800578594 accuracy :  1.0\n",
      "epoch :  14600 cost :  0.014033128507435322 accuracy :  1.0\n",
      "epoch :  14700 cost :  0.013941861689090729 accuracy :  1.0\n",
      "epoch :  14800 cost :  0.013851791620254517 accuracy :  1.0\n",
      "epoch :  14900 cost :  0.013762877322733402 accuracy :  1.0\n",
      "epoch :  15000 cost :  0.013675090856850147 accuracy :  1.0\n",
      "epoch :  15100 cost :  0.013588440604507923 accuracy :  1.0\n",
      "epoch :  15200 cost :  0.013502846471965313 accuracy :  1.0\n",
      "epoch :  15300 cost :  0.013418368063867092 accuracy :  1.0\n",
      "epoch :  15400 cost :  0.013334940187633038 accuracy :  1.0\n",
      "epoch :  15500 cost :  0.013252577744424343 accuracy :  1.0\n",
      "epoch :  15600 cost :  0.01317120622843504 accuracy :  1.0\n",
      "epoch :  15700 cost :  0.013090833090245724 accuracy :  1.0\n",
      "epoch :  15800 cost :  0.01301142293959856 accuracy :  1.0\n",
      "epoch :  15900 cost :  0.012932959944009781 accuracy :  1.0\n",
      "epoch :  16000 cost :  0.012855466455221176 accuracy :  1.0\n",
      "epoch :  16100 cost :  0.012778852134943008 accuracy :  1.0\n",
      "epoch :  16200 cost :  0.01270318403840065 accuracy :  1.0\n",
      "epoch :  16300 cost :  0.012628443539142609 accuracy :  1.0\n",
      "epoch :  16400 cost :  0.012554541230201721 accuracy :  1.0\n",
      "epoch :  16500 cost :  0.012481524609029293 accuracy :  1.0\n",
      "epoch :  16600 cost :  0.012409293092787266 accuracy :  1.0\n",
      "epoch :  16700 cost :  0.012337927706539631 accuracy :  1.0\n",
      "epoch :  16800 cost :  0.012267428450286388 accuracy :  1.0\n",
      "epoch :  16900 cost :  0.012197698466479778 accuracy :  1.0\n",
      "epoch :  17000 cost :  0.012128748930990696 accuracy :  1.0\n",
      "epoch :  17100 cost :  0.012060520239174366 accuracy :  1.0\n",
      "epoch :  17200 cost :  0.011993172578513622 accuracy :  1.0\n",
      "epoch :  17300 cost :  0.011926556937396526 accuracy :  1.0\n",
      "epoch :  17400 cost :  0.011860608123242855 accuracy :  1.0\n",
      "epoch :  17500 cost :  0.011795402504503727 accuracy :  1.0\n",
      "epoch :  17600 cost :  0.011730991303920746 accuracy :  1.0\n",
      "epoch :  17700 cost :  0.011667202226817608 accuracy :  1.0\n",
      "epoch :  17800 cost :  0.011604078114032745 accuracy :  1.0\n",
      "epoch :  17900 cost :  0.011541738174855709 accuracy :  1.0\n",
      "epoch :  18000 cost :  0.011480028741061687 accuracy :  1.0\n",
      "epoch :  18100 cost :  0.01141889113932848 accuracy :  1.0\n",
      "epoch :  18200 cost :  0.0113585339859128 accuracy :  1.0\n",
      "epoch :  18300 cost :  0.011298750527203083 accuracy :  1.0\n",
      "epoch :  18400 cost :  0.011239521205425262 accuracy :  1.0\n",
      "epoch :  18500 cost :  0.011181040666997433 accuracy :  1.0\n",
      "epoch :  18600 cost :  0.011123125441372395 accuracy :  1.0\n",
      "epoch :  18700 cost :  0.01106573361903429 accuracy :  1.0\n",
      "epoch :  18800 cost :  0.01100907102227211 accuracy :  1.0\n",
      "epoch :  18900 cost :  0.010952879674732685 accuracy :  1.0\n",
      "epoch :  19000 cost :  0.01089728344231844 accuracy :  1.0\n",
      "epoch :  19100 cost :  0.01084230002015829 accuracy :  1.0\n",
      "epoch :  19200 cost :  0.010787741281092167 accuracy :  1.0\n",
      "epoch :  19300 cost :  0.010733881033957005 accuracy :  1.0\n",
      "epoch :  19400 cost :  0.01068047434091568 accuracy :  1.0\n",
      "epoch :  19500 cost :  0.0106276236474514 accuracy :  1.0\n",
      "epoch :  19600 cost :  0.010575316846370697 accuracy :  1.0\n",
      "epoch :  19700 cost :  0.010523428209125996 accuracy :  1.0\n",
      "epoch :  19800 cost :  0.010472183115780354 accuracy :  1.0\n",
      "epoch :  19900 cost :  0.010421291925013065 accuracy :  1.0\n"
     ]
    }
   ],
   "source": [
    "for epoch in range(nb_epochs):\n",
    "    h=model(x_train)\n",
    "    cost=F.binary_cross_entropy(h, y_train)\n",
    "\n",
    "    optimizer.zero_grad()\n",
    "    cost.backward()\n",
    "    optimizer.step()\n",
    "\n",
    "    prediction = h>=torch.FloatTensor([0.5])\n",
    "    correct_pred = prediction.float()==y_train\n",
    "    accuracy = correct_pred.sum().item()/len(correct_pred)\n",
    "    cost_list.append(cost.item())\n",
    "    accuracy_list.append(accuracy)\n",
    "\n",
    "    if epoch%100 == 0:\n",
    "        print('epoch : ',epoch, 'cost : ', cost.item(), 'accuracy : ', accuracy)\n"
   ]
  },
  {
   "cell_type": "code",
   "execution_count": 11,
   "metadata": {},
   "outputs": [],
   "source": [
    "import numpy as np\n",
    "import matplotlib.pyplot as plt\n",
    "import pandas as pd"
   ]
  },
  {
   "cell_type": "code",
   "execution_count": 12,
   "metadata": {},
   "outputs": [
    {
     "data": {
      "image/png": "[encoded data removed]",
      "text/plain": [
       "<Figure size 640x480 with 1 Axes>"
      ]
     },
     "metadata": {},
     "output_type": "display_data"
    }
   ],
   "source": [
    "s1= pd.Series(cost_list)\n",
    "plt.plot(s1)\n",
    "plt.title(\"cost\")\n",
    "plt.show()"
   ]
  },
  {
   "cell_type": "code",
   "execution_count": 13,
   "metadata": {},
   "outputs": [
    {
     "data": {
      "image/png": "[encoded data removed]",
      "text/plain": [
       "<Figure size 640x480 with 1 Axes>"
      ]
     },
     "metadata": {},
     "output_type": "display_data"
    }
   ],
   "source": [
    "s2=pd.Series(accuracy_list)\n",
    "plt.plot(s2)\n",
    "plt.title(\"accuracy\")\n",
    "plt.show()"
   ]
  }
 ],
 "metadata": {
  "kernelspec": {
   "display_name": "base",
   "language": "python",
   "name": "python3"
  },
  "language_info": {
   "codemirror_mode": {
    "name": "ipython",
    "version": 3
   },
   "file_extension": ".py",
   "mimetype": "text/x-python",
   "name": "python",
   "nbconvert_exporter": "python",
   "pygments_lexer": "ipython3",
   "version": "3.10.9"
  },
  "orig_nbformat": 4
 },
 "nbformat": 4,
 "nbformat_minor": 2
}
