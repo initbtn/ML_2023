{
 "cells": [
  {
   "cell_type": "markdown",
   "metadata": {},
   "source": []
  },
  {
   "cell_type": "code",
   "execution_count": 29,
   "metadata": {},
   "outputs": [],
   "source": [
    "import torch\n",
    "import torch.nn as nn\n",
    "import torch.nn.functional as F\n",
    "import torch.optim as optim"
   ]
  },
  {
   "cell_type": "code",
   "execution_count": 30,
   "metadata": {},
   "outputs": [],
   "source": [
    "torch.manual_seed(1)\n",
    "x_data=torch.FloatTensor([[1],[2],[3],[4],[5]])\n",
    "t_data=torch.FloatTensor([[3],[5],[7],[9],[11]])"
   ]
  },
  {
   "cell_type": "code",
   "execution_count": 31,
   "metadata": {},
   "outputs": [
    {
     "name": "stdout",
     "output_type": "stream",
     "text": [
      "[Parameter containing:\n",
      "tensor([[0.5153]], requires_grad=True), Parameter containing:\n",
      "tensor([-0.4414], requires_grad=True)]\n"
     ]
    }
   ],
   "source": [
    "model=nn.Linear(1,1)    # input_dim=1, output_dim=1\n",
    "print(list(model.parameters()))"
   ]
  },
  {
   "cell_type": "code",
   "execution_count": 32,
   "metadata": {},
   "outputs": [],
   "source": [
    "optimizer=optim.SGD(model.parameters(),lr=0.01)"
   ]
  },
  {
   "cell_type": "code",
   "execution_count": 33,
   "metadata": {},
   "outputs": [
    {
     "name": "stdout",
     "output_type": "stream",
     "text": [
      "Epoch: 0 Cost: 39.16685104370117\n",
      "Epoch: 400 Cost: 0.01109258271753788\n",
      "Epoch: 800 Cost: 0.0007385412463918328\n",
      "Epoch: 1200 Cost: 4.91717473778408e-05\n",
      "Epoch: 1600 Cost: 3.276181814726442e-06\n",
      "Epoch: 2000 Cost: 2.1860606125301274e-07\n",
      "Epoch: 2400 Cost: 1.4702209227834828e-08\n",
      "Epoch: 2800 Cost: 9.986707016906848e-10\n",
      "Epoch: 3200 Cost: 1.0809344391793374e-10\n",
      "Epoch: 3600 Cost: 5.426272625674855e-11\n",
      "Epoch: 4000 Cost: 5.426272625674855e-11\n",
      "Epoch: 4400 Cost: 5.426272625674855e-11\n",
      "Epoch: 4800 Cost: 5.426272625674855e-11\n",
      "Epoch: 5200 Cost: 5.426272625674855e-11\n",
      "Epoch: 5600 Cost: 5.426272625674855e-11\n",
      "Epoch: 6000 Cost: 5.426272625674855e-11\n",
      "Epoch: 6400 Cost: 5.426272625674855e-11\n",
      "Epoch: 6800 Cost: 5.426272625674855e-11\n",
      "Epoch: 7200 Cost: 5.426272625674855e-11\n",
      "Epoch: 7600 Cost: 5.426272625674855e-11\n",
      "Epoch: 8000 Cost: 5.426272625674855e-11\n",
      "Epoch: 8400 Cost: 5.426272625674855e-11\n",
      "Epoch: 8800 Cost: 5.426272625674855e-11\n",
      "Epoch: 9200 Cost: 5.426272625674855e-11\n",
      "Epoch: 9600 Cost: 5.426272625674855e-11\n",
      "Epoch: 10000 Cost: 5.426272625674855e-11\n",
      "Epoch: 10400 Cost: 5.426272625674855e-11\n",
      "Epoch: 10800 Cost: 5.426272625674855e-11\n",
      "Epoch: 11200 Cost: 5.426272625674855e-11\n",
      "Epoch: 11600 Cost: 5.426272625674855e-11\n",
      "Epoch: 12000 Cost: 5.426272625674855e-11\n",
      "Epoch: 12400 Cost: 5.426272625674855e-11\n",
      "Epoch: 12800 Cost: 5.426272625674855e-11\n",
      "Epoch: 13200 Cost: 5.426272625674855e-11\n",
      "Epoch: 13600 Cost: 5.426272625674855e-11\n",
      "Epoch: 14000 Cost: 5.426272625674855e-11\n",
      "Epoch: 14400 Cost: 5.426272625674855e-11\n",
      "Epoch: 14800 Cost: 5.426272625674855e-11\n",
      "Epoch: 15200 Cost: 5.426272625674855e-11\n",
      "Epoch: 15600 Cost: 5.426272625674855e-11\n",
      "Epoch: 16000 Cost: 5.426272625674855e-11\n",
      "Epoch: 16400 Cost: 5.426272625674855e-11\n",
      "Epoch: 16800 Cost: 5.426272625674855e-11\n",
      "Epoch: 17200 Cost: 5.426272625674855e-11\n",
      "Epoch: 17600 Cost: 5.426272625674855e-11\n",
      "Epoch: 18000 Cost: 5.426272625674855e-11\n",
      "Epoch: 18400 Cost: 5.426272625674855e-11\n",
      "Epoch: 18800 Cost: 5.426272625674855e-11\n",
      "Epoch: 19200 Cost: 5.426272625674855e-11\n",
      "Epoch: 19600 Cost: 5.426272625674855e-11\n"
     ]
    }
   ],
   "source": [
    "nb_epochs=20000\n",
    "\n",
    "for epoch in range(nb_epochs):\n",
    "    prediction=model(x_data)\n",
    "    cost=F.mse_loss(prediction,t_data)\n",
    "\n",
    "    optimizer.zero_grad()\n",
    "    cost.backward()\n",
    "    optimizer.step()\n",
    "\n",
    "    if epoch%400==0:\n",
    "        print('Epoch:',epoch, 'Cost:', cost.item())"
   ]
  },
  {
   "cell_type": "code",
   "execution_count": 34,
   "metadata": {},
   "outputs": [
    {
     "name": "stdout",
     "output_type": "stream",
     "text": [
      "tensor([[21.0000]], grad_fn=<AddmmBackward0>)\n",
      "[Parameter containing:\n",
      "tensor([[2.0000]], requires_grad=True), Parameter containing:\n",
      "tensor([1.0000], requires_grad=True)]\n"
     ]
    }
   ],
   "source": [
    "new_data=torch.FloatTensor([[10]])\n",
    "y_pred=model(new_data)\n",
    "print(y_pred)\n",
    "print(list(model.parameters()))\n"
   ]
  },
  {
   "cell_type": "code",
   "execution_count": 35,
   "metadata": {},
   "outputs": [],
   "source": [
    "x1_data=torch.FloatTensor([[73., 80., 75.],\n",
    "            [93., 88., 93.],\n",
    "            [89., 91., 90.],\n",
    "            [96., 98., 100.],\n",
    "            [73., 66., 70.]])\n",
    "t1_data=torch.FloatTensor([[152.],[185.],[180.],[196.],[142.]])"
   ]
  },
  {
   "cell_type": "code",
   "execution_count": 36,
   "metadata": {},
   "outputs": [
    {
     "name": "stdout",
     "output_type": "stream",
     "text": [
      "[Parameter containing:\n",
      "tensor([[2.0000]], requires_grad=True), Parameter containing:\n",
      "tensor([1.0000], requires_grad=True)]\n"
     ]
    }
   ],
   "source": [
    "model1=nn.Linear(3,1)\n",
    "print(list(model.parameters()))"
   ]
  },
  {
   "cell_type": "code",
   "execution_count": 37,
   "metadata": {},
   "outputs": [],
   "source": [
    "optimizer1=optim.SGD(model1.parameters(),lr=1e-6)"
   ]
  },
  {
   "cell_type": "code",
   "execution_count": 49,
   "metadata": {},
   "outputs": [
    {
     "name": "stdout",
     "output_type": "stream",
     "text": [
      "Epoch: 0 Cost: 0.162821963429451\n",
      "Epoch: 400 Cost: 0.16280606389045715\n",
      "Epoch: 800 Cost: 0.16280034184455872\n",
      "Epoch: 1200 Cost: 0.16278302669525146\n",
      "Epoch: 1600 Cost: 0.16277779638767242\n",
      "Epoch: 2000 Cost: 0.16276618838310242\n",
      "Epoch: 2400 Cost: 0.1627521961927414\n",
      "Epoch: 2800 Cost: 0.1627405434846878\n",
      "Epoch: 3200 Cost: 0.16273128986358643\n",
      "Epoch: 3600 Cost: 0.1627214103937149\n",
      "Epoch: 4000 Cost: 0.1627081036567688\n",
      "Epoch: 4400 Cost: 0.1626988798379898\n",
      "Epoch: 4800 Cost: 0.16268983483314514\n",
      "Epoch: 5200 Cost: 0.16267384588718414\n",
      "Epoch: 5600 Cost: 0.1626654714345932\n",
      "Epoch: 6000 Cost: 0.162654310464859\n",
      "Epoch: 6400 Cost: 0.16264666616916656\n",
      "Epoch: 6800 Cost: 0.16263927519321442\n",
      "Epoch: 7200 Cost: 0.16263166069984436\n",
      "Epoch: 7600 Cost: 0.1626148521900177\n",
      "Epoch: 8000 Cost: 0.16260822117328644\n",
      "Epoch: 8400 Cost: 0.1625967174768448\n",
      "Epoch: 8800 Cost: 0.16258420050144196\n",
      "Epoch: 9200 Cost: 0.16258014738559723\n",
      "Epoch: 9600 Cost: 0.16256698966026306\n",
      "Epoch: 10000 Cost: 0.16255801916122437\n",
      "Epoch: 10400 Cost: 0.16254553198814392\n",
      "Epoch: 10800 Cost: 0.1625397652387619\n",
      "Epoch: 11200 Cost: 0.1625305712223053\n",
      "Epoch: 11600 Cost: 0.1625201255083084\n",
      "Epoch: 12000 Cost: 0.16250751912593842\n",
      "Epoch: 12400 Cost: 0.16249847412109375\n",
      "Epoch: 12800 Cost: 0.1624842882156372\n",
      "Epoch: 13200 Cost: 0.16247610747814178\n",
      "Epoch: 13600 Cost: 0.1624721884727478\n",
      "Epoch: 14000 Cost: 0.16246086359024048\n",
      "Epoch: 14400 Cost: 0.16245350241661072\n",
      "Epoch: 14800 Cost: 0.16244128346443176\n",
      "Epoch: 15200 Cost: 0.16243213415145874\n",
      "Epoch: 15600 Cost: 0.16242636740207672\n",
      "Epoch: 16000 Cost: 0.16241355240345\n",
      "Epoch: 16400 Cost: 0.16240522265434265\n",
      "Epoch: 16800 Cost: 0.16239461302757263\n",
      "Epoch: 17200 Cost: 0.16238415241241455\n",
      "Epoch: 17600 Cost: 0.16237249970436096\n",
      "Epoch: 18000 Cost: 0.16236461699008942\n",
      "Epoch: 18400 Cost: 0.16235403716564178\n",
      "Epoch: 18800 Cost: 0.16234847903251648\n",
      "Epoch: 19200 Cost: 0.16233544051647186\n",
      "Epoch: 19600 Cost: 0.162327378988266\n"
     ]
    }
   ],
   "source": [
    "nb1_epochs=20000\n",
    "for epoch in range(nb1_epochs):\n",
    "    prediction=model1(x1_data)\n",
    "    cost=F.mse_loss(prediction, t1_data)\n",
    "\n",
    "    optimizer1.zero_grad()\n",
    "    cost.backward()\n",
    "    optimizer1.step()\n",
    "\n",
    "    if epoch%400==0:\n",
    "        print(\"Epoch:\", epoch, \"Cost:\", cost.item())"
   ]
  },
  {
   "cell_type": "code",
   "execution_count": 51,
   "metadata": {},
   "outputs": [
    {
     "name": "stdout",
     "output_type": "stream",
     "text": [
      "[Parameter containing:\n",
      "tensor([[1.0694, 0.5347, 0.4056]], requires_grad=True), Parameter containing:\n",
      "tensor([0.3584], requires_grad=True)]\n",
      "tensor([[165.1861]], grad_fn=<AddmmBackward0>)\n"
     ]
    }
   ],
   "source": [
    "print(list(model1.parameters()))\n",
    "new_data1=torch.FloatTensor([[80,80,90]])\n",
    "y_pred1=model1(new_data1)\n",
    "print(y_pred1)"
   ]
  }
 ],
 "metadata": {
  "kernelspec": {
   "display_name": "base",
   "language": "python",
   "name": "python3"
  },
  "language_info": {
   "codemirror_mode": {
    "name": "ipython",
    "version": 3
   },
   "file_extension": ".py",
   "mimetype": "text/x-python",
   "name": "python",
   "nbconvert_exporter": "python",
   "pygments_lexer": "ipython3",
   "version": "3.10.9"
  },
  "orig_nbformat": 4
 },
 "nbformat": 4,
 "nbformat_minor": 2
}
