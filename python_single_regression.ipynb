{
 "cells": [
  {
   "cell_type": "markdown",
   "metadata": {},
   "source": [
    "# python\n",
    "경사하강법"
   ]
  },
  {
   "cell_type": "code",
   "execution_count": 3,
   "metadata": {},
   "outputs": [],
   "source": [
    "import numpy as np"
   ]
  },
  {
   "cell_type": "markdown",
   "metadata": {},
   "source": [
    "### y=wx+b 함수\n",
    "- w = 2\n",
    "- b = 1"
   ]
  },
  {
   "cell_type": "code",
   "execution_count": 19,
   "metadata": {},
   "outputs": [],
   "source": [
    "x_data=np.array([1,2,3,4,5]).reshape(5,1)\n",
    "t_data=np.array([4,5,8,9,11]).reshape(5,1)"
   ]
  },
  {
   "cell_type": "code",
   "execution_count": 14,
   "metadata": {},
   "outputs": [
    {
     "name": "stdout",
     "output_type": "stream",
     "text": [
      "[[0.14638981]] [0.145036]\n"
     ]
    }
   ],
   "source": [
    "w=np.random.rand(1,1)\n",
    "b=np.random.rand(1)\n",
    "print(w,b)"
   ]
  },
  {
   "cell_type": "code",
   "execution_count": 20,
   "metadata": {},
   "outputs": [],
   "source": [
    "def loss_func(x,t):\n",
    "    y=np.dot(x,w)+b\n",
    "\n",
    "    return (np.sum((t-y)**2)/len(x))"
   ]
  },
  {
   "cell_type": "code",
   "execution_count": 9,
   "metadata": {},
   "outputs": [],
   "source": [
    "def numerical_derivative(f,x):\n",
    "    delta_x=1e-4\n",
    "    grad=np.zeros_like(x)\n",
    "\n",
    "    it=np.nditer(x, flags=['multi_index'], op_flags=['readwrite'])\n",
    "\n",
    "    while not it.finished:\n",
    "        idx=it.multi_index\n",
    "        tmp_val=x[idx]\n",
    "        x[idx]=float(tmp_val)+delta_x\n",
    "        fx1=f(x)\n",
    "\n",
    "        x[idx]= tmp_val-delta_x\n",
    "        fx2=f(x)\n",
    "        grad[idx]=(fx1-fx2)/(2*delta_x)\n",
    "\n",
    "        x[idx]=tmp_val\n",
    "        it.iternext()\n",
    "\n",
    "    return grad"
   ]
  },
  {
   "cell_type": "code",
   "execution_count": 11,
   "metadata": {},
   "outputs": [],
   "source": [
    "def predict(x):\n",
    "    y=np.dot(x, w)+b\n",
    "    return y"
   ]
  },
  {
   "cell_type": "code",
   "execution_count": 21,
   "metadata": {},
   "outputs": [
    {
     "name": "stdout",
     "output_type": "stream",
     "text": [
      "Initial error value= 0.40000000000000924 Inital w= [[2.]] b= [1.]\n",
      "step= 0 error value= 0.37230940159997583 w= [[2.016]] b= [1.00704]\n",
      "step= 400 error value= 0.17117499500665231 w= [[1.86864682]] b= [1.75222387]\n",
      "step= 800 error value= 0.16071303074769427 w= [[1.81734007]] b= [1.93741217]\n",
      "step= 1200 error value= 0.16004549557712175 w= [[1.80438007]] b= [1.98419042]\n",
      "step= 1600 error value= 0.16000290288678873 w= [[1.8011064]] b= [1.99600653]\n",
      "step= 2000 error value= 0.16000018522133894 w= [[1.80027947]] b= [1.99899126]\n",
      "step= 2400 error value= 0.1600000118182164 w= [[1.80007059]] b= [1.99974519]\n",
      "step= 2800 error value= 0.16000000075407184 w= [[1.80001783]] b= [1.99993564]\n",
      "step= 3200 error value= 0.16000000004811435 w= [[1.8000045]] b= [1.99998374]\n",
      "step= 3600 error value= 0.16000000000307021 w= [[1.80000114]] b= [1.99999589]\n",
      "step= 4000 error value= 0.16000000000019585 w= [[1.80000029]] b= [1.99999896]\n",
      "step= 4400 error value= 0.1600000000000124 w= [[1.80000007]] b= [1.99999974]\n",
      "step= 4800 error value= 0.16000000000000086 w= [[1.80000002]] b= [1.99999993]\n",
      "step= 5200 error value= 0.1599999999999999 w= [[1.8]] b= [1.99999998]\n",
      "step= 5600 error value= 0.16 w= [[1.8]] b= [2.]\n",
      "step= 6000 error value= 0.15999999999999986 w= [[1.8]] b= [2.]\n",
      "step= 6400 error value= 0.1600000000000002 w= [[1.8]] b= [2.]\n",
      "step= 6800 error value= 0.1599999999999999 w= [[1.8]] b= [2.]\n",
      "step= 7200 error value= 0.15999999999999978 w= [[1.8]] b= [2.]\n",
      "step= 7600 error value= 0.15999999999999975 w= [[1.8]] b= [2.]\n",
      "step= 8000 error value= 0.1600000000000001 w= [[1.8]] b= [2.]\n"
     ]
    }
   ],
   "source": [
    "learning_rate=1e-2\n",
    "f=lambda x: loss_func(x_data, t_data)\n",
    "print(\"Initial error value=\", loss_func(x_data, t_data), \"Inital w=\", w, \"b=\", b)\n",
    "\n",
    "for step in range(8001):\n",
    "    w-=learning_rate*numerical_derivative(f,w)\n",
    "    b-=learning_rate*numerical_derivative(f,b)\n",
    "\n",
    "    if step % 400==0:\n",
    "        print(\"step=\", step, \"error value=\", loss_func(x_data, t_data), \"w=\", w, \"b=\", b)"
   ]
  },
  {
   "cell_type": "code",
   "execution_count": 23,
   "metadata": {},
   "outputs": [
    {
     "data": {
      "text/plain": [
       "array([[20.]])"
      ]
     },
     "execution_count": 23,
     "metadata": {},
     "output_type": "execute_result"
    }
   ],
   "source": [
    "predict(10)"
   ]
  },
  {
   "cell_type": "markdown",
   "metadata": {},
   "source": []
  },
  {
   "cell_type": "code",
   "execution_count": 24,
   "metadata": {},
   "outputs": [],
   "source": [
    "x_data=np.array([[1,1.5],[2,2.5],[3,3.5],[4,4.5],[5,5.5]]).reshape(5,2)\n",
    "t_data=np.array([4,5,8,9,11]).reshape(5,1)"
   ]
  },
  {
   "cell_type": "code",
   "execution_count": 25,
   "metadata": {},
   "outputs": [
    {
     "name": "stdout",
     "output_type": "stream",
     "text": [
      "[[0.72421819]\n",
      " [0.47740649]] [0.89809539]\n"
     ]
    }
   ],
   "source": [
    "w=np.random.rand(2,1)\n",
    "b=np.random.rand(1)\n",
    "print(w,b)"
   ]
  },
  {
   "cell_type": "code",
   "execution_count": null,
   "metadata": {},
   "outputs": [],
   "source": [
    "def loss_func(x,t):\n",
    "    y=np.dot(x,w)+b\n",
    "\n",
    "    return (np.sum((t-y)**2)/len(x))"
   ]
  },
  {
   "cell_type": "code",
   "execution_count": 26,
   "metadata": {},
   "outputs": [
    {
     "name": "stdout",
     "output_type": "stream",
     "text": [
      "Initial error value= 7.9428101194478815 Inital w= [[0.72421819]\n",
      " [0.47740649]] b= [0.89809539]\n",
      "step= 0 error value= 2.0543606985312626 w= [[0.90765284]\n",
      " [0.68742442]] b= [0.9255546]\n",
      "step= 400 error value= 0.16405925548537786 w= [[0.91156425]\n",
      " [0.93003001]] b= [1.38572589]\n",
      "step= 800 error value= 0.1602454407445239 w= [[0.86952028]\n",
      " [0.94070755]] b= [1.49294412]\n",
      "step= 1200 error value= 0.16001484044532022 w= [[0.85918187]\n",
      " [0.94333311]] b= [1.51930857]\n",
      "step= 1600 error value= 0.16000089731970846 w= [[0.8566397 ]\n",
      " [0.94397872]] b= [1.52579147]\n",
      "step= 2000 error value= 0.16000005425596328 w= [[0.8560146 ]\n",
      " [0.94413747]] b= [1.52738558]\n",
      "step= 2400 error value= 0.16000000328055802 w= [[0.85586089]\n",
      " [0.94417651]] b= [1.52777757]\n",
      "step= 2800 error value= 0.1600000001983573 w= [[0.85582309]\n",
      " [0.94418611]] b= [1.52787395]\n",
      "step= 3200 error value= 0.16000000001199394 w= [[0.8558138 ]\n",
      " [0.94418847]] b= [1.52789765]\n",
      "step= 3600 error value= 0.16000000000072487 w= [[0.85581151]\n",
      " [0.94418905]] b= [1.52790348]\n",
      "step= 4000 error value= 0.16000000000004386 w= [[0.85581095]\n",
      " [0.94418919]] b= [1.52790492]\n",
      "step= 4400 error value= 0.16000000000000233 w= [[0.85581081]\n",
      " [0.94418922]] b= [1.52790527]\n",
      "step= 4800 error value= 0.15999999999999986 w= [[0.85581078]\n",
      " [0.94418923]] b= [1.52790535]\n",
      "step= 5200 error value= 0.1600000000000001 w= [[0.85581077]\n",
      " [0.94418923]] b= [1.52790538]\n",
      "step= 5600 error value= 0.16000000000000036 w= [[0.85581077]\n",
      " [0.94418923]] b= [1.52790538]\n",
      "step= 6000 error value= 0.16000000000000003 w= [[0.85581077]\n",
      " [0.94418924]] b= [1.52790538]\n",
      "step= 6400 error value= 0.15999999999999998 w= [[0.85581076]\n",
      " [0.94418924]] b= [1.52790538]\n",
      "step= 6800 error value= 0.15999999999999986 w= [[0.85581076]\n",
      " [0.94418924]] b= [1.52790538]\n",
      "step= 7200 error value= 0.15999999999999975 w= [[0.85581076]\n",
      " [0.94418924]] b= [1.52790538]\n",
      "step= 7600 error value= 0.15999999999999984 w= [[0.85581076]\n",
      " [0.94418924]] b= [1.52790538]\n",
      "step= 8000 error value= 0.16000000000000036 w= [[0.85581076]\n",
      " [0.94418924]] b= [1.52790538]\n"
     ]
    }
   ],
   "source": [
    "learning_rate=1e-2\n",
    "f=lambda x: loss_func(x_data, t_data)\n",
    "print(\"Initial error value=\", loss_func(x_data, t_data), \"Inital w=\", w, \"b=\", b)\n",
    "\n",
    "for step in range(8001):\n",
    "    w-=learning_rate*numerical_derivative(f,w)\n",
    "    b-=learning_rate*numerical_derivative(f,b)\n",
    "\n",
    "    if step % 400==0:\n",
    "        print(\"step=\", step, \"error value=\", loss_func(x_data, t_data), \"w=\", w, \"b=\", b)"
   ]
  },
  {
   "cell_type": "code",
   "execution_count": 28,
   "metadata": {},
   "outputs": [
    {
     "data": {
      "text/plain": [
       "array([[10.08601303],\n",
       "       [10.96979773]])"
      ]
     },
     "execution_count": 28,
     "metadata": {},
     "output_type": "execute_result"
    }
   ],
   "source": [
    "predict(10)"
   ]
  },
  {
   "cell_type": "markdown",
   "metadata": {},
   "source": [
    "## 실습"
   ]
  },
  {
   "cell_type": "code",
   "execution_count": 29,
   "metadata": {},
   "outputs": [
    {
     "name": "stdout",
     "output_type": "stream",
     "text": [
      "[[ 73.  80.  75.]\n",
      " [ 93.  88.  93.]\n",
      " [ 89.  91.  90.]\n",
      " [ 96.  98. 100.]\n",
      " [ 73.  66.  70.]]\n",
      "[[152.]\n",
      " [185.]\n",
      " [180.]\n",
      " [196.]\n",
      " [142.]]\n"
     ]
    }
   ],
   "source": [
    "import numpy as np\n",
    "\n",
    "x_data1 = [[73., 80., 75.],\n",
    "          [93., 88., 93.],\n",
    "          [89., 91., 90.],\n",
    "          [96., 98., 100.],\n",
    "          [73., 66., 70.]]\n",
    "t_data1 = [[152.],\n",
    "          [185.],\n",
    "          [180.],\n",
    "          [196.],\n",
    "          [142.]]\n",
    "\n",
    "x_data=np.array(x_data1)\n",
    "t_data=np.array(t_data1)\n",
    "print(x_data)\n",
    "print(t_data)"
   ]
  },
  {
   "cell_type": "code",
   "execution_count": 46,
   "metadata": {},
   "outputs": [
    {
     "name": "stdout",
     "output_type": "stream",
     "text": [
      "[[0.06466073]\n",
      " [0.34969779]\n",
      " [0.70928219]] [0.15122754]\n"
     ]
    }
   ],
   "source": [
    "w=np.random.rand(3,1)\n",
    "b=np.random.rand(1)\n",
    "print(w,b)"
   ]
  },
  {
   "cell_type": "code",
   "execution_count": 50,
   "metadata": {},
   "outputs": [
    {
     "name": "stdout",
     "output_type": "stream",
     "text": [
      "Initial error value= 0.16576549155371129 Inital w= [[1.0047692 ]\n",
      " [0.50072803]\n",
      " [0.50421402]] b= [0.25175755]\n",
      "step= 0 error value= 0.16576520150205493 w= [[1.00477008]\n",
      " [0.50072848]\n",
      " [0.50421271]] b= [0.25175798]\n",
      "step= 100 error value= 0.16573626555346008 w= [[1.00485852]\n",
      " [0.50077269]\n",
      " [0.50408113]] b= [0.25180097]\n"
     ]
    }
   ],
   "source": [
    "learning_rate=1e-5\n",
    "f=lambda x: loss_func(x_data, t_data)\n",
    "print(\"Initial error value=\", loss_func(x_data, t_data), \"Inital w=\", w, \"b=\", b)\n",
    "\n",
    "for step in range(100001):\n",
    "    w-=learning_rate*numerical_derivative(f,w)\n",
    "    b-=learning_rate*numerical_derivative(f,b)\n",
    "\n",
    "    if step % 4000==0:\n",
    "        print(\"step=\", step, \"error value=\", loss_func(x_data, t_data), \"w=\", w, \"b=\", b)"
   ]
  },
  {
   "cell_type": "code",
   "execution_count": 48,
   "metadata": {},
   "outputs": [
    {
     "data": {
      "text/plain": [
       "array([151.4740336])"
      ]
     },
     "execution_count": 48,
     "metadata": {},
     "output_type": "execute_result"
    }
   ],
   "source": [
    "predict([73.,80.,75.])"
   ]
  },
  {
   "cell_type": "code",
   "execution_count": null,
   "metadata": {},
   "outputs": [],
   "source": []
  }
 ],
 "metadata": {
  "kernelspec": {
   "display_name": "base",
   "language": "python",
   "name": "python3"
  },
  "language_info": {
   "codemirror_mode": {
    "name": "ipython",
    "version": 3
   },
   "file_extension": ".py",
   "mimetype": "text/x-python",
   "name": "python",
   "nbconvert_exporter": "python",
   "pygments_lexer": "ipython3",
   "version": "3.10.9"
  },
  "orig_nbformat": 4
 },
 "nbformat": 4,
 "nbformat_minor": 2
}
