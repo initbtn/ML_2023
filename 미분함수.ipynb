{
 "cells": [
  {
   "cell_type": "code",
   "execution_count": 1,
   "metadata": {},
   "outputs": [],
   "source": [
    "import numpy as np"
   ]
  },
  {
   "cell_type": "markdown",
   "metadata": {},
   "source": []
  },
  {
   "cell_type": "code",
   "execution_count": 8,
   "metadata": {},
   "outputs": [],
   "source": [
    "def myfunc1(x):\n",
    "    return x**2"
   ]
  },
  {
   "cell_type": "code",
   "execution_count": 9,
   "metadata": {},
   "outputs": [],
   "source": [
    "def myfunc2(x):\n",
    "    return 3*x**2+2*x+1"
   ]
  },
  {
   "cell_type": "code",
   "execution_count": 14,
   "metadata": {},
   "outputs": [],
   "source": [
    "def numerical_derivative(f,x):\n",
    "    delta_x=1e-4  #1*1/10000\n",
    "    return (f(x+delta_x)-f(x-delta_x))/(2*delta_x)"
   ]
  },
  {
   "cell_type": "code",
   "execution_count": 15,
   "metadata": {},
   "outputs": [
    {
     "name": "stdout",
     "output_type": "stream",
     "text": [
      "6.000000000012662\n"
     ]
    }
   ],
   "source": [
    "result=numerical_derivative(myfunc1,3)\n",
    "print(result)"
   ]
  },
  {
   "cell_type": "code",
   "execution_count": 17,
   "metadata": {},
   "outputs": [
    {
     "name": "stdout",
     "output_type": "stream",
     "text": [
      "14.000000000020663\n"
     ]
    }
   ],
   "source": [
    "result2=numerical_derivative(myfunc2,2)\n",
    "print(result2)"
   ]
  },
  {
   "cell_type": "markdown",
   "metadata": {},
   "source": [
    "2x+3xy+y**3 \n",
    "- x로 미분 : 2+3y\n",
    "- y에 대한 미분 : 3x+3y**2"
   ]
  },
  {
   "cell_type": "code",
   "execution_count": 32,
   "metadata": {},
   "outputs": [],
   "source": [
    "def numerical_derivative(f,x):\n",
    "    delta_x=1e-4\n",
    "    grad=np.zeros_like(x)\n",
    "    print(\"x:\",x)\n",
    "    print(\"grad:\",grad)\n",
    "\n",
    "    it=np.nditer(x, flags=['multi_index'], op_flags=['readwrite'])\n",
    "\n",
    "    while not it.finished:\n",
    "        idx=it.multi_index\n",
    "        print('idx:',idx, 'x[idx]:',x[idx])\n",
    "        tmp_val=x[idx]\n",
    "        x[idx]=float(tmp_val)+delta_x\n",
    "        fx1=f(x)\n",
    "\n",
    "        x[idx]= tmp_val-delta_x\n",
    "        fx2=f(x)\n",
    "        grad[idx]=(fx1-fx2)/(2*delta_x)\n",
    "        print(grad[idx])\n",
    "\n",
    "        x[idx]=tmp_val\n",
    "        it.iternext()\n",
    "\n",
    "    return grad"
   ]
  },
  {
   "cell_type": "code",
   "execution_count": 23,
   "metadata": {},
   "outputs": [],
   "source": [
    "def func1(input):\n",
    "    x=input[0]\n",
    "    y=input[1]\n",
    "    return (2*x + 3*x*y + np.power(y,3))"
   ]
  },
  {
   "cell_type": "code",
   "execution_count": 34,
   "metadata": {},
   "outputs": [
    {
     "name": "stdout",
     "output_type": "stream",
     "text": [
      "x: [3. 2.]\n",
      "grad: [0. 0.]\n",
      "idx: (0,) x[idx]: 3.0\n",
      "7.999999999999119\n",
      "idx: (1,) x[idx]: 2.0\n",
      "21.000000010040765\n"
     ]
    },
    {
     "data": {
      "text/plain": [
       "array([ 8.        , 21.00000001])"
      ]
     },
     "execution_count": 34,
     "metadata": {},
     "output_type": "execute_result"
    }
   ],
   "source": [
    "numerical_derivative(func1, np.array([3.0,2.0]))"
   ]
  },
  {
   "cell_type": "code",
   "execution_count": 35,
   "metadata": {},
   "outputs": [
    {
     "name": "stdout",
     "output_type": "stream",
     "text": [
      "x: [3.]\n",
      "grad: [0.]\n",
      "idx: (0,) x[idx]: 3.0\n"
     ]
    },
    {
     "ename": "IndexError",
     "evalue": "index 1 is out of bounds for axis 0 with size 1",
     "output_type": "error",
     "traceback": [
      "\u001b[1;31m---------------------------------------------------------------------------\u001b[0m",
      "\u001b[1;31mIndexError\u001b[0m                                Traceback (most recent call last)",
      "Cell \u001b[1;32mIn[35], line 1\u001b[0m\n\u001b[1;32m----> 1\u001b[0m numerical_derivative(func1, np\u001b[39m.\u001b[39;49marray([\u001b[39m3.0\u001b[39;49m]))\n",
      "Cell \u001b[1;32mIn[32], line 14\u001b[0m, in \u001b[0;36mnumerical_derivative\u001b[1;34m(f, x)\u001b[0m\n\u001b[0;32m     12\u001b[0m tmp_val\u001b[39m=\u001b[39mx[idx]\n\u001b[0;32m     13\u001b[0m x[idx]\u001b[39m=\u001b[39m\u001b[39mfloat\u001b[39m(tmp_val)\u001b[39m+\u001b[39mdelta_x\n\u001b[1;32m---> 14\u001b[0m fx1\u001b[39m=\u001b[39mf(x)\n\u001b[0;32m     16\u001b[0m x[idx]\u001b[39m=\u001b[39m tmp_val\u001b[39m-\u001b[39mdelta_x\n\u001b[0;32m     17\u001b[0m fx2\u001b[39m=\u001b[39mf(x)\n",
      "Cell \u001b[1;32mIn[23], line 3\u001b[0m, in \u001b[0;36mfunc1\u001b[1;34m(input)\u001b[0m\n\u001b[0;32m      1\u001b[0m \u001b[39mdef\u001b[39;00m \u001b[39mfunc1\u001b[39m(\u001b[39minput\u001b[39m):\n\u001b[0;32m      2\u001b[0m     x\u001b[39m=\u001b[39m\u001b[39minput\u001b[39m[\u001b[39m0\u001b[39m]\n\u001b[1;32m----> 3\u001b[0m     y\u001b[39m=\u001b[39m\u001b[39minput\u001b[39;49m[\u001b[39m1\u001b[39;49m]\n\u001b[0;32m      4\u001b[0m     \u001b[39mreturn\u001b[39;00m (\u001b[39m2\u001b[39m\u001b[39m*\u001b[39mx \u001b[39m+\u001b[39m \u001b[39m3\u001b[39m\u001b[39m*\u001b[39mx\u001b[39m*\u001b[39my \u001b[39m+\u001b[39m np\u001b[39m.\u001b[39mpower(y,\u001b[39m3\u001b[39m))\n",
      "\u001b[1;31mIndexError\u001b[0m: index 1 is out of bounds for axis 0 with size 1"
     ]
    }
   ],
   "source": [
    "numerical_derivative(func1, np.array([3.0]))"
   ]
  },
  {
   "cell_type": "code",
   "execution_count": 38,
   "metadata": {},
   "outputs": [],
   "source": [
    "def func2(input):\n",
    "    w=input[0][0]\n",
    "    x=input[1][1]\n",
    "    y=input[2][2]\n",
    "    z=input[3][3]\n",
    "    return (w*x + x*y*z + 3*w + z*np.power(y,2))"
   ]
  },
  {
   "cell_type": "code",
   "execution_count": 40,
   "metadata": {},
   "outputs": [
    {
     "name": "stdout",
     "output_type": "stream",
     "text": [
      "x: [[1. 2.]\n",
      " [3. 4.]]\n",
      "grad: [[0. 0.]\n",
      " [0. 0.]]\n",
      "idx: (0, 0) x[idx]: 1.0\n"
     ]
    },
    {
     "ename": "IndexError",
     "evalue": "index 2 is out of bounds for axis 0 with size 2",
     "output_type": "error",
     "traceback": [
      "\u001b[1;31m---------------------------------------------------------------------------\u001b[0m",
      "\u001b[1;31mIndexError\u001b[0m                                Traceback (most recent call last)",
      "Cell \u001b[1;32mIn[40], line 1\u001b[0m\n\u001b[1;32m----> 1\u001b[0m numerical_derivative(func2, np\u001b[39m.\u001b[39;49marray([[\u001b[39m1.0\u001b[39;49m,\u001b[39m2.0\u001b[39;49m],[\u001b[39m3.0\u001b[39;49m,\u001b[39m4.0\u001b[39;49m]]))\n",
      "Cell \u001b[1;32mIn[32], line 14\u001b[0m, in \u001b[0;36mnumerical_derivative\u001b[1;34m(f, x)\u001b[0m\n\u001b[0;32m     12\u001b[0m tmp_val\u001b[39m=\u001b[39mx[idx]\n\u001b[0;32m     13\u001b[0m x[idx]\u001b[39m=\u001b[39m\u001b[39mfloat\u001b[39m(tmp_val)\u001b[39m+\u001b[39mdelta_x\n\u001b[1;32m---> 14\u001b[0m fx1\u001b[39m=\u001b[39mf(x)\n\u001b[0;32m     16\u001b[0m x[idx]\u001b[39m=\u001b[39m tmp_val\u001b[39m-\u001b[39mdelta_x\n\u001b[0;32m     17\u001b[0m fx2\u001b[39m=\u001b[39mf(x)\n",
      "Cell \u001b[1;32mIn[38], line 4\u001b[0m, in \u001b[0;36mfunc2\u001b[1;34m(input)\u001b[0m\n\u001b[0;32m      2\u001b[0m w\u001b[39m=\u001b[39m\u001b[39minput\u001b[39m[\u001b[39m0\u001b[39m][\u001b[39m0\u001b[39m]\n\u001b[0;32m      3\u001b[0m x\u001b[39m=\u001b[39m\u001b[39minput\u001b[39m[\u001b[39m1\u001b[39m][\u001b[39m1\u001b[39m]\n\u001b[1;32m----> 4\u001b[0m y\u001b[39m=\u001b[39m\u001b[39minput\u001b[39;49m[\u001b[39m2\u001b[39;49m][\u001b[39m2\u001b[39m]\n\u001b[0;32m      5\u001b[0m z\u001b[39m=\u001b[39m\u001b[39minput\u001b[39m[\u001b[39m3\u001b[39m][\u001b[39m3\u001b[39m]\n\u001b[0;32m      6\u001b[0m \u001b[39mreturn\u001b[39;00m (w\u001b[39m*\u001b[39mx \u001b[39m+\u001b[39m x\u001b[39m*\u001b[39my\u001b[39m*\u001b[39mz \u001b[39m+\u001b[39m \u001b[39m3\u001b[39m\u001b[39m*\u001b[39mw \u001b[39m+\u001b[39m z\u001b[39m*\u001b[39mnp\u001b[39m.\u001b[39mpower(y,\u001b[39m2\u001b[39m))\n",
      "\u001b[1;31mIndexError\u001b[0m: index 2 is out of bounds for axis 0 with size 2"
     ]
    }
   ],
   "source": [
    "numerical_derivative(func2, np.array([[1.0,2.0],[3.0,4.0]]))"
   ]
  },
  {
   "cell_type": "markdown",
   "metadata": {},
   "source": []
  }
 ],
 "metadata": {
  "kernelspec": {
   "display_name": "base",
   "language": "python",
   "name": "python3"
  },
  "language_info": {
   "codemirror_mode": {
    "name": "ipython",
    "version": 3
   },
   "file_extension": ".py",
   "mimetype": "text/x-python",
   "name": "python",
   "nbconvert_exporter": "python",
   "pygments_lexer": "ipython3",
   "version": "3.10.9"
  },
  "orig_nbformat": 4
 },
 "nbformat": 4,
 "nbformat_minor": 2
}
