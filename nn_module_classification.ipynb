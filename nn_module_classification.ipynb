{
 "cells": [
  {
   "cell_type": "markdown",
   "metadata": {},
   "source": [
    "## 손실함수 계산 "
   ]
  },
  {
   "cell_type": "code",
   "execution_count": 2,
   "metadata": {},
   "outputs": [],
   "source": [
    "import torch\n",
    "import torch.nn as nn\n",
    "import torch.nn.functional as F\n",
    "import torch.optim as optim"
   ]
  },
  {
   "cell_type": "code",
   "execution_count": 3,
   "metadata": {},
   "outputs": [
    {
     "data": {
      "text/plain": [
       "<torch._C.Generator at 0x2b00e4461d0>"
      ]
     },
     "execution_count": 3,
     "metadata": {},
     "output_type": "execute_result"
    }
   ],
   "source": [
    "torch.manual_seed(1)"
   ]
  },
  {
   "cell_type": "code",
   "execution_count": 4,
   "metadata": {},
   "outputs": [
    {
     "name": "stdout",
     "output_type": "stream",
     "text": [
      "torch.Size([6, 2])\n",
      "torch.Size([6, 1])\n"
     ]
    }
   ],
   "source": [
    "x_data=[[1,2],[2,3],[3,1],[4,3],[5,3],[6,2]]\n",
    "t_data=[[0],[0],[0],[1],[1],[1]]\n",
    "x_train=torch.FloatTensor(x_data)\n",
    "t_train=torch.FloatTensor(t_data)\n",
    "print(x_train.size())\n",
    "print(t_train.size())"
   ]
  },
  {
   "cell_type": "code",
   "execution_count": 11,
   "metadata": {},
   "outputs": [],
   "source": [
    "model=nn.Sequential(\n",
    "    nn.Linear(2,1), #input_dim=2, output_dim=1\n",
    "    nn.Sigmoid()    #출력은 시그모이드 함수를 거침\n",
    ")"
   ]
  },
  {
   "cell_type": "code",
   "execution_count": 12,
   "metadata": {},
   "outputs": [
    {
     "data": {
      "text/plain": [
       "tensor([[0.3600],\n",
       "        [0.2872],\n",
       "        [0.6801],\n",
       "        [0.4389],\n",
       "        [0.5216],\n",
       "        [0.7473]], grad_fn=<SigmoidBackward0>)"
      ]
     },
     "execution_count": 12,
     "metadata": {},
     "output_type": "execute_result"
    }
   ],
   "source": [
    "model(x_train)"
   ]
  },
  {
   "cell_type": "code",
   "execution_count": 13,
   "metadata": {},
   "outputs": [],
   "source": [
    "optimizer=optim.SGD(model.parameters(), lr=0.1)\n",
    "nb_epochs=10000\n",
    "costs=[]\n",
    "accuracy_list=[]"
   ]
  },
  {
   "cell_type": "code",
   "execution_count": 14,
   "metadata": {},
   "outputs": [
    {
     "name": "stdout",
     "output_type": "stream",
     "text": [
      "Epoch: 0 Cost: 0.6149943470954895 accuracy: 0.6666666666666666\n",
      "Epoch: 100 Cost: 0.4551481008529663 accuracy: 0.8333333333333334\n",
      "Epoch: 200 Cost: 0.38301214575767517 accuracy: 0.8333333333333334\n",
      "Epoch: 300 Cost: 0.327485054731369 accuracy: 0.8333333333333334\n",
      "Epoch: 400 Cost: 0.2841247022151947 accuracy: 0.8333333333333334\n",
      "Epoch: 500 Cost: 0.24992986023426056 accuracy: 1.0\n",
      "Epoch: 600 Cost: 0.22259187698364258 accuracy: 1.0\n",
      "Epoch: 700 Cost: 0.2004033774137497 accuracy: 1.0\n",
      "Epoch: 800 Cost: 0.18212342262268066 accuracy: 1.0\n",
      "Epoch: 900 Cost: 0.16685110330581665 accuracy: 1.0\n",
      "Epoch: 1000 Cost: 0.15392734110355377 accuracy: 1.0\n",
      "Epoch: 1100 Cost: 0.14286403357982635 accuracy: 1.0\n",
      "Epoch: 1200 Cost: 0.13329477608203888 accuracy: 1.0\n",
      "Epoch: 1300 Cost: 0.12494060397148132 accuracy: 1.0\n",
      "Epoch: 1400 Cost: 0.11758670210838318 accuracy: 1.0\n",
      "Epoch: 1500 Cost: 0.11106470227241516 accuracy: 1.0\n",
      "Epoch: 1600 Cost: 0.10524168610572815 accuracy: 1.0\n",
      "Epoch: 1700 Cost: 0.10001113265752792 accuracy: 1.0\n",
      "Epoch: 1800 Cost: 0.09528698772192001 accuracy: 1.0\n",
      "Epoch: 1900 Cost: 0.09099895507097244 accuracy: 1.0\n",
      "Epoch: 2000 Cost: 0.08708906173706055 accuracy: 1.0\n",
      "Epoch: 2100 Cost: 0.08350908756256104 accuracy: 1.0\n",
      "Epoch: 2200 Cost: 0.08021872490644455 accuracy: 1.0\n",
      "Epoch: 2300 Cost: 0.07718396931886673 accuracy: 1.0\n",
      "Epoch: 2400 Cost: 0.07437590509653091 accuracy: 1.0\n",
      "Epoch: 2500 Cost: 0.0717698484659195 accuracy: 1.0\n",
      "Epoch: 2600 Cost: 0.06934445351362228 accuracy: 1.0\n",
      "Epoch: 2700 Cost: 0.0670815110206604 accuracy: 1.0\n",
      "Epoch: 2800 Cost: 0.06496503204107285 accuracy: 1.0\n",
      "Epoch: 2900 Cost: 0.06298098713159561 accuracy: 1.0\n",
      "Epoch: 3000 Cost: 0.06111728027462959 accuracy: 1.0\n",
      "Epoch: 3100 Cost: 0.05936316028237343 accuracy: 1.0\n",
      "Epoch: 3200 Cost: 0.05770912766456604 accuracy: 1.0\n",
      "Epoch: 3300 Cost: 0.05614674091339111 accuracy: 1.0\n",
      "Epoch: 3400 Cost: 0.05466858670115471 accuracy: 1.0\n",
      "Epoch: 3500 Cost: 0.05326782539486885 accuracy: 1.0\n",
      "Epoch: 3600 Cost: 0.05193851888179779 accuracy: 1.0\n",
      "Epoch: 3700 Cost: 0.05067525431513786 accuracy: 1.0\n",
      "Epoch: 3800 Cost: 0.04947322607040405 accuracy: 1.0\n",
      "Epoch: 3900 Cost: 0.0483279712498188 accuracy: 1.0\n",
      "Epoch: 4000 Cost: 0.047235533595085144 accuracy: 1.0\n",
      "Epoch: 4100 Cost: 0.04619230329990387 accuracy: 1.0\n",
      "Epoch: 4200 Cost: 0.045195017009973526 accuracy: 1.0\n",
      "Epoch: 4300 Cost: 0.044240664690732956 accuracy: 1.0\n",
      "Epoch: 4400 Cost: 0.04332646355032921 accuracy: 1.0\n",
      "Epoch: 4500 Cost: 0.042449962347745895 accuracy: 1.0\n",
      "Epoch: 4600 Cost: 0.041608795523643494 accuracy: 1.0\n",
      "Epoch: 4700 Cost: 0.040800854563713074 accuracy: 1.0\n",
      "Epoch: 4800 Cost: 0.04002418741583824 accuracy: 1.0\n",
      "Epoch: 4900 Cost: 0.03927707299590111 accuracy: 1.0\n",
      "Epoch: 5000 Cost: 0.03855771943926811 accuracy: 1.0\n",
      "Epoch: 5100 Cost: 0.03786466270685196 accuracy: 1.0\n",
      "Epoch: 5200 Cost: 0.03719642758369446 accuracy: 1.0\n",
      "Epoch: 5300 Cost: 0.03655177354812622 accuracy: 1.0\n",
      "Epoch: 5400 Cost: 0.0359293669462204 accuracy: 1.0\n",
      "Epoch: 5500 Cost: 0.03532809391617775 accuracy: 1.0\n",
      "Epoch: 5600 Cost: 0.03474689647555351 accuracy: 1.0\n",
      "Epoch: 5700 Cost: 0.03418475762009621 accuracy: 1.0\n",
      "Epoch: 5800 Cost: 0.03364080563187599 accuracy: 1.0\n",
      "Epoch: 5900 Cost: 0.033114075660705566 accuracy: 1.0\n",
      "Epoch: 6000 Cost: 0.03260378539562225 accuracy: 1.0\n",
      "Epoch: 6100 Cost: 0.03210924193263054 accuracy: 1.0\n",
      "Epoch: 6200 Cost: 0.03162962570786476 accuracy: 1.0\n",
      "Epoch: 6300 Cost: 0.03116430900990963 accuracy: 1.0\n",
      "Epoch: 6400 Cost: 0.03071262501180172 accuracy: 1.0\n",
      "Epoch: 6500 Cost: 0.030274003744125366 accuracy: 1.0\n",
      "Epoch: 6600 Cost: 0.02984791062772274 accuracy: 1.0\n",
      "Epoch: 6700 Cost: 0.02943376637995243 accuracy: 1.0\n",
      "Epoch: 6800 Cost: 0.029031047597527504 accuracy: 1.0\n",
      "Epoch: 6900 Cost: 0.02863936685025692 accuracy: 1.0\n",
      "Epoch: 7000 Cost: 0.0282581839710474 accuracy: 1.0\n",
      "Epoch: 7100 Cost: 0.02788720093667507 accuracy: 1.0\n",
      "Epoch: 7200 Cost: 0.02752584218978882 accuracy: 1.0\n",
      "Epoch: 7300 Cost: 0.02717386744916439 accuracy: 1.0\n",
      "Epoch: 7400 Cost: 0.0268308836966753 accuracy: 1.0\n",
      "Epoch: 7500 Cost: 0.026496522128582 accuracy: 1.0\n",
      "Epoch: 7600 Cost: 0.02617044560611248 accuracy: 1.0\n",
      "Epoch: 7700 Cost: 0.02585238218307495 accuracy: 1.0\n",
      "Epoch: 7800 Cost: 0.02554207108914852 accuracy: 1.0\n",
      "Epoch: 7900 Cost: 0.025239134207367897 accuracy: 1.0\n",
      "Epoch: 8000 Cost: 0.024943381547927856 accuracy: 1.0\n",
      "Epoch: 8100 Cost: 0.024654576554894447 accuracy: 1.0\n",
      "Epoch: 8200 Cost: 0.024372419342398643 accuracy: 1.0\n",
      "Epoch: 8300 Cost: 0.024096645414829254 accuracy: 1.0\n",
      "Epoch: 8400 Cost: 0.023827163502573967 accuracy: 1.0\n",
      "Epoch: 8500 Cost: 0.023563653230667114 accuracy: 1.0\n",
      "Epoch: 8600 Cost: 0.02330598048865795 accuracy: 1.0\n",
      "Epoch: 8700 Cost: 0.023053916171193123 accuracy: 1.0\n",
      "Epoch: 8800 Cost: 0.0228072851896286 accuracy: 1.0\n",
      "Epoch: 8900 Cost: 0.022565916180610657 accuracy: 1.0\n",
      "Epoch: 9000 Cost: 0.022329652681946754 accuracy: 1.0\n",
      "Epoch: 9100 Cost: 0.022098317742347717 accuracy: 1.0\n",
      "Epoch: 9200 Cost: 0.021871766075491905 accuracy: 1.0\n",
      "Epoch: 9300 Cost: 0.02164985053241253 accuracy: 1.0\n",
      "Epoch: 9400 Cost: 0.021432409062981606 accuracy: 1.0\n",
      "Epoch: 9500 Cost: 0.021219320595264435 accuracy: 1.0\n",
      "Epoch: 9600 Cost: 0.021010488271713257 accuracy: 1.0\n",
      "Epoch: 9700 Cost: 0.020805729553103447 accuracy: 1.0\n",
      "Epoch: 9800 Cost: 0.020604955032467842 accuracy: 1.0\n",
      "Epoch: 9900 Cost: 0.020408065989613533 accuracy: 1.0\n",
      "Epoch: 10000 Cost: 0.02021491900086403 accuracy: 1.0\n"
     ]
    }
   ],
   "source": [
    "for epoch in range(nb_epochs+1):\n",
    "    hypothesis=model(x_train)   # H(x) 계산\n",
    "\n",
    "    cost=F.binary_cross_entropy(hypothesis, t_train)\n",
    "    # cost=-(t_train*torch.log(h) + (1-t_train)*torch.log(1-h)).mean()\n",
    "\n",
    "    optimizer.zero_grad()\n",
    "    cost.backward()\n",
    "    optimizer.step()\n",
    "    costs.append(cost.item())\n",
    "\n",
    "    if epoch%100==0:\n",
    "        prediction= hypothesis >= torch.FloatTensor([0.5])  #예측값이 0.5이 넘으면 True로 간주\n",
    "        correct_prediction = prediction.float() == t_train  #실제값과 일치하는 경우만 True로 간주\n",
    "        accuracy = correct_prediction.sum().item()/ len(correct_prediction)     #정확도를 계산\n",
    "        \n",
    "        print('Epoch:',epoch, 'Cost:',cost.item(), \"accuracy:\", accuracy)"
   ]
  },
  {
   "cell_type": "code",
   "execution_count": 23,
   "metadata": {},
   "outputs": [
    {
     "data": {
      "text/plain": [
       "tensor([[0.],\n",
       "        [0.],\n",
       "        [0.],\n",
       "        [1.],\n",
       "        [1.],\n",
       "        [1.]])"
      ]
     },
     "execution_count": 23,
     "metadata": {},
     "output_type": "execute_result"
    }
   ],
   "source": [
    "h2=model(x_train)\n",
    "pred2=h2>=torch.FloatTensor([0.5])\n",
    "pred2.float()"
   ]
  },
  {
   "cell_type": "code",
   "execution_count": 55,
   "metadata": {},
   "outputs": [
    {
     "name": "stdout",
     "output_type": "stream",
     "text": [
      "tensor([[False],\n",
      "        [False],\n",
      "        [False],\n",
      "        [ True],\n",
      "        [ True],\n",
      "        [ True]])\n"
     ]
    }
   ],
   "source": [
    "prediction=h2>=torch.FloatTensor([0.5])\n",
    "print(prediction)"
   ]
  },
  {
   "cell_type": "code",
   "execution_count": 17,
   "metadata": {},
   "outputs": [
    {
     "ename": "NameError",
     "evalue": "name 'W' is not defined",
     "output_type": "error",
     "traceback": [
      "\u001b[1;31m---------------------------------------------------------------------------\u001b[0m",
      "\u001b[1;31mNameError\u001b[0m                                 Traceback (most recent call last)",
      "Cell \u001b[1;32mIn[17], line 1\u001b[0m\n\u001b[1;32m----> 1\u001b[0m \u001b[39mprint\u001b[39m(W)\n\u001b[0;32m      2\u001b[0m \u001b[39mprint\u001b[39m(b)\n",
      "\u001b[1;31mNameError\u001b[0m: name 'W' is not defined"
     ]
    }
   ],
   "source": [
    "print(W)\n",
    "print(b)"
   ]
  },
  {
   "cell_type": "code",
   "execution_count": 18,
   "metadata": {},
   "outputs": [],
   "source": [
    "import pandas as pd"
   ]
  },
  {
   "cell_type": "code",
   "execution_count": 19,
   "metadata": {},
   "outputs": [
    {
     "data": {
      "text/plain": [
       "<Axes: >"
      ]
     },
     "execution_count": 19,
     "metadata": {},
     "output_type": "execute_result"
    },
    {
     "data": {
      "image/png": "[encoded data removed]",
      "text/plain": [
       "<Figure size 640x480 with 1 Axes>"
      ]
     },
     "metadata": {},
     "output_type": "display_data"
    }
   ],
   "source": [
    "s1=pd.Series(costs)\n",
    "s1.plot()"
   ]
  },
  {
   "cell_type": "code",
   "execution_count": 22,
   "metadata": {},
   "outputs": [
    {
     "name": "stderr",
     "output_type": "stream",
     "text": [
      "C:\\Users\\admin\\AppData\\Local\\Temp\\ipykernel_11136\\1841465591.py:1: FutureWarning: The default dtype for empty Series will be 'object' instead of 'float64' in a future version. Specify a dtype explicitly to silence this warning.\n",
      "  s2=pd.Series(accuracy_list)\n"
     ]
    },
    {
     "ename": "NameError",
     "evalue": "name 'plt' is not defined",
     "output_type": "error",
     "traceback": [
      "\u001b[1;31m---------------------------------------------------------------------------\u001b[0m",
      "\u001b[1;31mNameError\u001b[0m                                 Traceback (most recent call last)",
      "Cell \u001b[1;32mIn[22], line 2\u001b[0m\n\u001b[0;32m      1\u001b[0m s2\u001b[39m=\u001b[39mpd\u001b[39m.\u001b[39mSeries(accuracy_list)\n\u001b[1;32m----> 2\u001b[0m plt\u001b[39m.\u001b[39mplot(s2)\n\u001b[0;32m      3\u001b[0m plt\u001b[39m.\u001b[39mtitle(\u001b[39m\"\u001b[39m\u001b[39mAccuracy\u001b[39m\u001b[39m\"\u001b[39m)\n\u001b[0;32m      4\u001b[0m plt\u001b[39m.\u001b[39mshow()\n",
      "\u001b[1;31mNameError\u001b[0m: name 'plt' is not defined"
     ]
    }
   ],
   "source": [
    "s2=pd.Series(accuracy_list)\n",
    "plt.plot(s2)\n",
    "plt.title(\"Accuracy\")\n",
    "plt.show()"
   ]
  }
 ],
 "metadata": {
  "kernelspec": {
   "display_name": "base",
   "language": "python",
   "name": "python3"
  },
  "language_info": {
   "codemirror_mode": {
    "name": "ipython",
    "version": 3
   },
   "file_extension": ".py",
   "mimetype": "text/x-python",
   "name": "python",
   "nbconvert_exporter": "python",
   "pygments_lexer": "ipython3",
   "version": "3.10.9"
  },
  "orig_nbformat": 4
 },
 "nbformat": 4,
 "nbformat_minor": 2
}
